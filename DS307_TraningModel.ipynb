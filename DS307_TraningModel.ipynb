{
 "cells": [
  {
   "cell_type": "code",
   "execution_count": 1,
   "metadata": {
    "colab": {
     "base_uri": "https://localhost:8080/"
    },
    "executionInfo": {
     "elapsed": 2669,
     "status": "ok",
     "timestamp": 1655147616295,
     "user": {
      "displayName": "Nguyễn Nathan",
      "userId": "02063277889349077620"
     },
     "user_tz": -420
    },
    "id": "6ImVRVFmHdns",
    "outputId": "9156ff0e-e72c-487e-bf17-7fa52d8a5f0f"
   },
   "outputs": [
    {
     "name": "stdout",
     "output_type": "stream",
     "text": [
      "Requirement already satisfied: transformers in c:\\users\\admin\\anaconda3\\envs\\xuannhat\\lib\\site-packages (4.36.2)\n",
      "Requirement already satisfied: safetensors>=0.3.1 in c:\\users\\admin\\anaconda3\\envs\\xuannhat\\lib\\site-packages (from transformers) (0.4.1)\n",
      "Requirement already satisfied: packaging>=20.0 in c:\\users\\admin\\anaconda3\\envs\\xuannhat\\lib\\site-packages (from transformers) (22.0)\n",
      "Requirement already satisfied: tokenizers<0.19,>=0.14 in c:\\users\\admin\\anaconda3\\envs\\xuannhat\\lib\\site-packages (from transformers) (0.15.0)\n",
      "Requirement already satisfied: tqdm>=4.27 in c:\\users\\admin\\anaconda3\\envs\\xuannhat\\lib\\site-packages (from transformers) (4.64.1)\n",
      "Requirement already satisfied: regex!=2019.12.17 in c:\\users\\admin\\anaconda3\\envs\\xuannhat\\lib\\site-packages (from transformers) (2022.10.31)\n",
      "Requirement already satisfied: filelock in c:\\users\\admin\\anaconda3\\envs\\xuannhat\\lib\\site-packages (from transformers) (3.8.2)\n",
      "Requirement already satisfied: requests in c:\\users\\admin\\anaconda3\\envs\\xuannhat\\lib\\site-packages (from transformers) (2.28.2)\n",
      "Requirement already satisfied: numpy>=1.17 in c:\\users\\admin\\anaconda3\\envs\\xuannhat\\lib\\site-packages (from transformers) (1.23.5)\n",
      "Requirement already satisfied: pyyaml>=5.1 in c:\\users\\admin\\anaconda3\\envs\\xuannhat\\lib\\site-packages (from transformers) (6.0.1)\n",
      "Requirement already satisfied: huggingface-hub<1.0,>=0.19.3 in c:\\users\\admin\\anaconda3\\envs\\xuannhat\\lib\\site-packages (from transformers) (0.20.1)\n",
      "Requirement already satisfied: typing-extensions>=3.7.4.3 in c:\\users\\admin\\anaconda3\\envs\\xuannhat\\lib\\site-packages (from huggingface-hub<1.0,>=0.19.3->transformers) (4.8.0)\n",
      "Requirement already satisfied: fsspec>=2023.5.0 in c:\\users\\admin\\anaconda3\\envs\\xuannhat\\lib\\site-packages (from huggingface-hub<1.0,>=0.19.3->transformers) (2023.12.2)\n",
      "Requirement already satisfied: colorama in c:\\users\\admin\\anaconda3\\envs\\xuannhat\\lib\\site-packages (from tqdm>=4.27->transformers) (0.4.6)\n",
      "Requirement already satisfied: idna<4,>=2.5 in c:\\users\\admin\\anaconda3\\envs\\xuannhat\\lib\\site-packages (from requests->transformers) (3.4)\n",
      "Requirement already satisfied: urllib3<1.27,>=1.21.1 in c:\\users\\admin\\anaconda3\\envs\\xuannhat\\lib\\site-packages (from requests->transformers) (1.26.14)\n",
      "Requirement already satisfied: certifi>=2017.4.17 in c:\\users\\admin\\anaconda3\\envs\\xuannhat\\lib\\site-packages (from requests->transformers) (2023.11.17)\n",
      "Requirement already satisfied: charset-normalizer<4,>=2 in c:\\users\\admin\\anaconda3\\envs\\xuannhat\\lib\\site-packages (from requests->transformers) (2.1.1)\n"
     ]
    },
    {
     "name": "stderr",
     "output_type": "stream",
     "text": [
      "WARNING: Ignoring invalid distribution -rotobuf (c:\\users\\admin\\anaconda3\\envs\\xuannhat\\lib\\site-packages)\n",
      "WARNING: Ignoring invalid distribution -andas (c:\\users\\admin\\anaconda3\\envs\\xuannhat\\lib\\site-packages)\n",
      "WARNING: Ignoring invalid distribution -rotobuf (c:\\users\\admin\\anaconda3\\envs\\xuannhat\\lib\\site-packages)\n",
      "WARNING: Ignoring invalid distribution -andas (c:\\users\\admin\\anaconda3\\envs\\xuannhat\\lib\\site-packages)\n",
      "WARNING: Ignoring invalid distribution -rotobuf (c:\\users\\admin\\anaconda3\\envs\\xuannhat\\lib\\site-packages)\n",
      "WARNING: Ignoring invalid distribution -andas (c:\\users\\admin\\anaconda3\\envs\\xuannhat\\lib\\site-packages)\n",
      "WARNING: Ignoring invalid distribution -rotobuf (c:\\users\\admin\\anaconda3\\envs\\xuannhat\\lib\\site-packages)\n",
      "WARNING: Ignoring invalid distribution -andas (c:\\users\\admin\\anaconda3\\envs\\xuannhat\\lib\\site-packages)\n",
      "WARNING: Ignoring invalid distribution -rotobuf (c:\\users\\admin\\anaconda3\\envs\\xuannhat\\lib\\site-packages)\n",
      "WARNING: Ignoring invalid distribution -andas (c:\\users\\admin\\anaconda3\\envs\\xuannhat\\lib\\site-packages)\n",
      "WARNING: Ignoring invalid distribution -rotobuf (c:\\users\\admin\\anaconda3\\envs\\xuannhat\\lib\\site-packages)\n",
      "WARNING: Ignoring invalid distribution -andas (c:\\users\\admin\\anaconda3\\envs\\xuannhat\\lib\\site-packages)\n"
     ]
    }
   ],
   "source": [
    "!pip install transformers"
   ]
  },
  {
   "cell_type": "code",
   "execution_count": null,
   "metadata": {
    "executionInfo": {
     "elapsed": 312,
     "status": "ok",
     "timestamp": 1655150536452,
     "user": {
      "displayName": "Nguyễn Nathan",
      "userId": "02063277889349077620"
     },
     "user_tz": -420
    },
    "id": "_aGJ6tNyHFnT"
   },
   "outputs": [],
   "source": [
    "import re\n",
    "import time\n",
    "import string\n",
    "import pickle\n",
    "import random\n",
    "import numpy as np\n",
    "import pandas as pd\n",
    "import tensorflow as tf\n",
    "from tensorflow.keras.preprocessing.sequence import pad_sequences\n",
    "import torch\n",
    "from transformers import AutoModel, AutoTokenizer\n",
    "from tqdm import tqdm, notebook\n",
    "import pickle\n",
    "from joblib import dump\n",
    "from sklearn.model_selection import train_test_split\n",
    "\n",
    "from keras.layers import Dense, GlobalMaxPooling1D, Dropout, Dense, BatchNormalization, Input\n",
    "from matplotlib import pyplot\n",
    "from keras.models import Sequential\n",
    "from keras.layers import Dense\n",
    "from keras.layers import Flatten\n",
    "from keras.layers import LSTM,Bidirectional\n",
    "from keras.layers import RepeatVector\n",
    "from keras.layers import TimeDistributed\n",
    "from keras.layers.convolutional import Conv1D\n",
    "from keras.layers.convolutional import MaxPooling1D\n",
    "from sklearn.preprocessing import LabelEncoder\n",
    "import tensorflow as tf\n",
    "from sklearn import datasets, svm\n",
    "import matplotlib.pyplot as plt"
   ]
  },
  {
   "cell_type": "code",
   "execution_count": 230,
   "metadata": {},
   "outputs": [
    {
     "data": {
      "text/html": [
       "        <script type=\"text/javascript\">\n",
       "        window.PlotlyConfig = {MathJaxConfig: 'local'};\n",
       "        if (window.MathJax && window.MathJax.Hub && window.MathJax.Hub.Config) {window.MathJax.Hub.Config({SVG: {font: \"STIX-Web\"}});}\n",
       "        if (typeof require !== 'undefined') {\n",
       "        require.undef(\"plotly\");\n",
       "        requirejs.config({\n",
       "            paths: {\n",
       "                'plotly': ['https://cdn.plot.ly/plotly-2.16.1.min']\n",
       "            }\n",
       "        });\n",
       "        require(['plotly'], function(Plotly) {\n",
       "            window._Plotly = Plotly;\n",
       "        });\n",
       "        }\n",
       "        </script>\n",
       "        "
      ]
     },
     "metadata": {},
     "output_type": "display_data"
    },
    {
     "name": "stdout",
     "output_type": "stream",
     "text": [
      "[name: \"/device:CPU:0\"\n",
      "device_type: \"CPU\"\n",
      "memory_limit: 268435456\n",
      "locality {\n",
      "}\n",
      "incarnation: 15221895974790539851\n",
      "xla_global_id: -1\n",
      "]\n"
     ]
    },
    {
     "name": "stderr",
     "output_type": "stream",
     "text": [
      "[nltk_data] Downloading package punkt to\n",
      "[nltk_data]     C:\\Users\\ADMIN\\AppData\\Roaming\\nltk_data...\n",
      "[nltk_data]   Package punkt is already up-to-date!\n",
      "[nltk_data] Downloading package stopwords to\n",
      "[nltk_data]     C:\\Users\\ADMIN\\AppData\\Roaming\\nltk_data...\n",
      "[nltk_data]   Package stopwords is already up-to-date!\n"
     ]
    }
   ],
   "source": [
    "import numpy as np\n",
    "import pandas as pd\n",
    "import pylab as plt\n",
    "import matplotlib.pyplot as plt\n",
    "\n",
    "import plotly.offline as py\n",
    "import plotly.graph_objs as go\n",
    "py.init_notebook_mode(connected=True)\n",
    "\n",
    "from sklearn.linear_model import LogisticRegression\n",
    "\n",
    "from sklearn.model_selection import train_test_split\n",
    "from sklearn.metrics import accuracy_score, precision_score, recall_score, f1_score\n",
    "from sklearn.model_selection import KFold, cross_val_score\n",
    "from sklearn.metrics import cohen_kappa_score\n",
    "\n",
    "import tensorflow\n",
    "from tensorflow.python.keras.models import Sequential, load_model\n",
    "from tensorflow.python.keras.layers import Dense, Dropout\n",
    "from tensorflow.python.keras import optimizers\n",
    "from keras.optimizers import Adam\n",
    "\n",
    "\n",
    "from sklearn.feature_extraction.text import TfidfVectorizer\n",
    "from sklearn.feature_extraction.text import CountVectorizer\n",
    "from sklearn.preprocessing import OneHotEncoder, LabelEncoder\n",
    "import pickle\n",
    "import seaborn as sns\n",
    "\n",
    "from imblearn.over_sampling import SMOTE\n",
    "from nltk.corpus import stopwords\n",
    "\n",
    "import keras\n",
    "import io\n",
    "import requests\n",
    "import nltk\n",
    "nltk.download('punkt')\n",
    "nltk.download('stopwords')\n",
    "\n",
    "from underthesea import word_tokenize\n",
    "\n",
    "from tensorflow.python.client import device_lib\n",
    "print(device_lib.list_local_devices())\n",
    "from keras import backend as K\n",
    "\n",
    "import codecs"
   ]
  },
  {
   "cell_type": "code",
   "execution_count": null,
   "metadata": {
    "colab": {
     "base_uri": "https://localhost:8080/"
    },
    "executionInfo": {
     "elapsed": 16398,
     "status": "ok",
     "timestamp": 1655141552659,
     "user": {
      "displayName": "Nguyễn Nathan",
      "userId": "02063277889349077620"
     },
     "user_tz": -420
    },
    "id": "pnhT7aqWHckz",
    "outputId": "6b9b7350-620b-4e43-bd03-dfe862f91bb6"
   },
   "outputs": [
    {
     "name": "stdout",
     "output_type": "stream",
     "text": [
      "Mounted at /content/drive\n"
     ]
    }
   ],
   "source": [
    "from google.colab import drive\n",
    "drive.mount('/content/drive')"
   ]
  },
  {
   "cell_type": "markdown",
   "metadata": {
    "id": "hniAqnJbKdKo"
   },
   "source": [
    "**load data**"
   ]
  },
  {
   "cell_type": "code",
   "execution_count": 390,
   "metadata": {
    "id": "HAOzcKfDH-R6"
   },
   "outputs": [],
   "source": [
    "df = pd.read_csv('Data_DS307_1.csv')"
   ]
  },
  {
   "cell_type": "code",
   "execution_count": 391,
   "metadata": {
    "id": "9Ljd8Of7J0kk"
   },
   "outputs": [],
   "source": [
    "NUM_CLASSES = len(df['label'].unique())\n",
    "index2class = {0:'Không hài lòng', 1:'Hài lòng'}\n",
    "class2index = {\"Không hài lòng\": 0, \"Hài lòng\":1}"
   ]
  },
  {
   "cell_type": "code",
   "execution_count": 392,
   "metadata": {
    "colab": {
     "base_uri": "https://localhost:8080/"
    },
    "executionInfo": {
     "elapsed": 313,
     "status": "ok",
     "timestamp": 1655142169525,
     "user": {
      "displayName": "Nguyễn Nathan",
      "userId": "02063277889349077620"
     },
     "user_tz": -420
    },
    "id": "9yqeDUkhKS6m",
    "outputId": "f53566ee-859c-4776-84e4-3d90f76ce495"
   },
   "outputs": [
    {
     "data": {
      "text/plain": [
       "0              Hài lòng\n",
       "1              Hài lòng\n",
       "2              Hài lòng\n",
       "3              Hài lòng\n",
       "4              Hài lòng\n",
       "              ...      \n",
       "11702    Không hài lòng\n",
       "11703          Hài lòng\n",
       "11704    Không hài lòng\n",
       "11705          Hài lòng\n",
       "11706          Hài lòng\n",
       "Name: label, Length: 11707, dtype: object"
      ]
     },
     "execution_count": 392,
     "metadata": {},
     "output_type": "execute_result"
    }
   ],
   "source": [
    "df.label"
   ]
  },
  {
   "cell_type": "code",
   "execution_count": 393,
   "metadata": {
    "id": "KDoqiHTBJ9H-"
   },
   "outputs": [],
   "source": [
    "df.label = df.label.map(lambda x : class2index[x])"
   ]
  },
  {
   "cell_type": "code",
   "execution_count": 394,
   "metadata": {
    "id": "eQYiwjYUPGbU"
   },
   "outputs": [],
   "source": [
    "text = df.content.to_list()\n",
    "label = df.label.to_list()\n",
    "\n",
    "text_ = []\n",
    "label_ = []\n",
    "\n",
    "dict_count = {1 : 1, 0 : 1}\n",
    "\n",
    "for i in range(len(text)):\n",
    "    if dict_count[label[i]] <= 2500:\n",
    "       text_.append(text[i])\n",
    "       label_.append(label[i])\n",
    "       dict_count[label[i]] += 1"
   ]
  },
  {
   "cell_type": "code",
   "execution_count": 395,
   "metadata": {
    "id": "UchVYhnTPIFp"
   },
   "outputs": [],
   "source": [
    "text = text_\n",
    "label = label_"
   ]
  },
  {
   "cell_type": "markdown",
   "metadata": {
    "id": "wDzkHx5nKfFI"
   },
   "source": [
    "**pho_bert**"
   ]
  },
  {
   "cell_type": "code",
   "execution_count": 396,
   "metadata": {
    "colab": {
     "base_uri": "https://localhost:8080/",
     "height": 238,
     "referenced_widgets": [
      "759e4c3d039b4dab9e765bad3ab3094e",
      "9b576851f5224052a69eaee172d2ef93",
      "6a85f566745844e9a0d758db1d648854",
      "2c91fe68ff794e74ae75a2789ddd9a4c",
      "f5026e9246ae444b9f93afc8fce58110",
      "446705402ec1407b8fe364da899f44a5",
      "f098ff0fc42948acbce98794e6ea7dd0",
      "f9b7eb59697a4c1494711d8c9964cbf3",
      "d0692bc879014d59b351b2d2c2d13b5d",
      "6947a9df70a44165b2259520a9fa8dac",
      "88f54ea82db34bd098b806f2f1abc10d",
      "de64a09353754d59a3dbd079234312cb",
      "2cfba68d0a174b8ebde530579ded23f2",
      "07f573c63b234682bb0627a882853d18",
      "0554ed30630148c8901b0e0200a2d0fc",
      "5acb38d6df774eab8fdc2fd8ad10d899",
      "88328606b559456e9f2c3bef3d1bc608",
      "5abe804e3edd4f7d81f0b9627a12e81f",
      "226059edc6c84bc1bd889fb0b91c5b80",
      "9f4324a7417545aeae8e0fbf6aaca353",
      "cb352a4e4bc2442eb83f56e3d9085608",
      "ec08d4c6f32e4046889296027455f982",
      "8a8d99e562cb44658cbe1ddb4ac6a3e0",
      "6a3ec2a5b1404d1e9d8de99e06243b24",
      "4de1ab6ad4d846e48f70d91b082b92c3",
      "d9bb060177334a498865340658404ffb",
      "f4d8bab9131f4322bbed2b2f16d56536",
      "b730cac17bcd44cfaaba774c5517058d",
      "d1aeeb24fdd5479dac7cf1898d04428e",
      "5570c6da241f405d95f930a2d11aea2c",
      "e505d5390d9444fc8a05bf4bae897fdf",
      "5ecf5387ac4b40898ef006acd6d6f7a7",
      "a9c80dd2e40a4e2296d27290bdca17fa",
      "e9f6a49a87094cb083e97cbd804857ce",
      "f9b44631c63b4d91a861991a211f3e0a",
      "ff9fc7eee76742ecbb31e7df9530a820",
      "131245bff6e341b6bc1f77adfae591c6",
      "d60d0471f5354ef391a5a2d9c847f695",
      "5acea4896fba4201b2a32c3aee5a7fcf",
      "c3882bf0ab99475da382c6fbdc9cf15e",
      "9ef8aeb4da034221907db29a0c26d7e3",
      "b70332407f484aabb90016e0e229562e",
      "b94289401f2b4ef49a088f9d3f4a8685",
      "f96bb38fcce341a99755696f55b95145"
     ]
    },
    "executionInfo": {
     "elapsed": 13894,
     "status": "ok",
     "timestamp": 1655142249120,
     "user": {
      "displayName": "Nguyễn Nathan",
      "userId": "02063277889349077620"
     },
     "user_tz": -420
    },
    "id": "Znl0ZB8pKjV8",
    "outputId": "d1e32589-78f2-423c-c348-21690a6b992f"
   },
   "outputs": [],
   "source": [
    "def load_bert():\n",
    "    v_phobert = AutoModel.from_pretrained(\"vinai/phobert-base\")\n",
    "    v_tokenizer = AutoTokenizer.from_pretrained(\"vinai/phobert-base\", use_fast=False)\n",
    "    return v_phobert, v_tokenizer\n",
    "phobert, tokenizer = load_bert()"
   ]
  },
  {
   "cell_type": "code",
   "execution_count": 397,
   "metadata": {
    "id": "uIONYeAWKqC4"
   },
   "outputs": [],
   "source": [
    "def phobert_embed_sentence(padded, mask, model=phobert):\n",
    "    # embed a single setence data\n",
    "    # param padded: a tokenized, padded sentence\n",
    "    # param mask: an attention mask of the padded sentence\n",
    "    padded = torch.tensor(padded).to(torch.long)\n",
    "    mask = torch.tensor(mask)\n",
    "    with torch.no_grad():\n",
    "        last_hidden_states = model(input_ids=padded, attention_mask=mask)[0]\n",
    "    vector = last_hidden_states[:, 0, :].numpy() # [:,0,:] to get embedding vector of the first output token [CLS]\n",
    "    return vector.flatten()\n",
    "\n",
    "def phobert_embed_data(data, tokenizer=tokenizer):\n",
    "    # embed the whole dataset with phobert\n",
    "    # param padded_data: tokenized, padded dataset\n",
    "    # param mask_data: attention masks of the padded dataset\n",
    "    MAX_LENGTH = tokenizer.model_max_length # phobert default max sequence length = 256\n",
    "\n",
    "    embedded_data = np.array([])\n",
    "    for line in tqdm(data):\n",
    "        tokenized_line = tokenizer.encode(line, max_length=MAX_LENGTH, truncation=True)\n",
    "        # pad sentence to a pre-defined max length, no truncating since it is already truncated in the phobert tokenizing\n",
    "        padded_line = pad_sequences([tokenized_line], maxlen=MAX_LENGTH, padding='post', value=1)\n",
    "        # Get attention mask from padded sentence of data to make PhoBERT focus on non-padded data only\n",
    "        # pad tokenized sentence with value = 1, since 1 is pre-defined padding value of PhoBERT\n",
    "        mask = np.where(padded_line == 1, 0, 1)\n",
    "\n",
    "        embedded_line = phobert_embed_sentence(padded_line, mask)\n",
    "        \n",
    "        if embedded_data.shape[0] == 0:\n",
    "            embedded_data = np.empty((0, embedded_line.shape[0]), 'float32')\n",
    "            \n",
    "        embedded_data = np.concatenate((embedded_data, [embedded_line]))\n",
    "    return embedded_data"
   ]
  },
  {
   "cell_type": "code",
   "execution_count": 398,
   "metadata": {
    "colab": {
     "base_uri": "https://localhost:8080/"
    },
    "executionInfo": {
     "elapsed": 3429061,
     "status": "ok",
     "timestamp": 1655147613647,
     "user": {
      "displayName": "Nguyễn Nathan",
      "userId": "02063277889349077620"
     },
     "user_tz": -420
    },
    "id": "CG7GEnJALEqE",
    "outputId": "f0e024dd-f8c6-4351-ed08-2019b7ebefc0",
    "scrolled": true
   },
   "outputs": [
    {
     "name": "stderr",
     "output_type": "stream",
     "text": [
      "100%|██████████| 5000/5000 [33:06<00:00,  2.52it/s]\n"
     ]
    }
   ],
   "source": [
    "phobert_train = phobert_embed_data(text)"
   ]
  },
  {
   "cell_type": "code",
   "execution_count": 399,
   "metadata": {
    "executionInfo": {
     "elapsed": 3844,
     "status": "ok",
     "timestamp": 1655148110176,
     "user": {
      "displayName": "Nguyễn Nathan",
      "userId": "02063277889349077620"
     },
     "user_tz": -420
    },
    "id": "FERFJwpyMvK6"
   },
   "outputs": [],
   "source": [
    "np.savetxt('PhoBert/PhoBertEmbedding.txt', phobert_train)"
   ]
  },
  {
   "cell_type": "code",
   "execution_count": 400,
   "metadata": {
    "colab": {
     "base_uri": "https://localhost:8080/"
    },
    "executionInfo": {
     "elapsed": 6,
     "status": "ok",
     "timestamp": 1655149246663,
     "user": {
      "displayName": "Nguyễn Nathan",
      "userId": "02063277889349077620"
     },
     "user_tz": -420
    },
    "id": "BAHDnywShlT1",
    "outputId": "445a9e09-6bcf-4f59-ea50-66bed67163c9"
   },
   "outputs": [
    {
     "data": {
      "text/plain": [
       "['PhoBert/label.pkl']"
      ]
     },
     "execution_count": 400,
     "metadata": {},
     "output_type": "execute_result"
    }
   ],
   "source": [
    "dump(label,'PhoBert/label.pkl')"
   ]
  },
  {
   "cell_type": "code",
   "execution_count": 401,
   "metadata": {
    "executionInfo": {
     "elapsed": 329,
     "status": "ok",
     "timestamp": 1655148666847,
     "user": {
      "displayName": "Nguyễn Nathan",
      "userId": "02063277889349077620"
     },
     "user_tz": -420
    },
    "id": "lTgRrO65i8T1"
   },
   "outputs": [],
   "source": [
    "X_train, X_test, y_train, y_test = train_test_split(phobert_train, label, test_size=0.15, random_state=0)"
   ]
  },
  {
   "cell_type": "code",
   "execution_count": 402,
   "metadata": {},
   "outputs": [
    {
     "data": {
      "text/plain": [
       "(768,)"
      ]
     },
     "execution_count": 402,
     "metadata": {},
     "output_type": "execute_result"
    }
   ],
   "source": [
    "X_train[0].shape"
   ]
  },
  {
   "cell_type": "markdown",
   "metadata": {
    "id": "lHiuaJEylKq3"
   },
   "source": [
    "**LSTM**"
   ]
  },
  {
   "cell_type": "code",
   "execution_count": 403,
   "metadata": {
    "executionInfo": {
     "elapsed": 290,
     "status": "ok",
     "timestamp": 1655149396135,
     "user": {
      "displayName": "Nguyễn Nathan",
      "userId": "02063277889349077620"
     },
     "user_tz": -420
    },
    "id": "zl3ek-4Ilp5-"
   },
   "outputs": [],
   "source": [
    "y_train = pd.get_dummies(y_train)\n",
    "X_train = np.expand_dims(X_train,axis = 1)"
   ]
  },
  {
   "cell_type": "code",
   "execution_count": 404,
   "metadata": {
    "executionInfo": {
     "elapsed": 1080,
     "status": "ok",
     "timestamp": 1655149410962,
     "user": {
      "displayName": "Nguyễn Nathan",
      "userId": "02063277889349077620"
     },
     "user_tz": -420
    },
    "id": "VKAOaM6llLs6"
   },
   "outputs": [],
   "source": [
    "MAX_EPOCHS = 200\n",
    "\n",
    "checkpoint_path = \"PhoBert/\"\n",
    "\n",
    "model_LSTM = tf.keras.Sequential([\n",
    "    tf.keras.layers.LSTM(128,return_sequences = True,input_shape = (1,768)),\n",
    "    tf.keras.layers.Dropout(0.5),\n",
    "    tf.keras.layers.LSTM(128,return_sequences = False),\n",
    "    tf.keras.layers.Dropout(0.5),\n",
    "    tf.keras.layers.Dense(32),\n",
    "    tf.keras.layers.Dense(2,activation='softmax')  \n",
    "])\n",
    "\n",
    "early_stopping = tf.keras.callbacks.EarlyStopping(monitor='val_loss',\n",
    "                                                  patience=50,\n",
    "                                                  mode='min',\n",
    "                                                  restore_best_weights=True)\n",
    "model_checkpoint = tf.keras.callbacks.ModelCheckpoint(checkpoint_path + 'LSTM', monitor='val_loss', save_best_only=True, save_feq='epoch')\n",
    "model_LSTM.compile(optimizer='adam',loss = tf.keras.losses.CategoricalCrossentropy(from_logits=False), metrics=['accuracy'])"
   ]
  },
  {
   "cell_type": "code",
   "execution_count": 405,
   "metadata": {},
   "outputs": [
    {
     "name": "stdout",
     "output_type": "stream",
     "text": [
      "Model: \"sequential_11\"\n",
      "_________________________________________________________________\n",
      " Layer (type)                Output Shape              Param #   \n",
      "=================================================================\n",
      " lstm_12 (LSTM)              (None, 1, 128)            459264    \n",
      "                                                                 \n",
      " dropout_12 (Dropout)        (None, 1, 128)            0         \n",
      "                                                                 \n",
      " lstm_13 (LSTM)              (None, 128)               131584    \n",
      "                                                                 \n",
      " dropout_13 (Dropout)        (None, 128)               0         \n",
      "                                                                 \n",
      " dense_26 (Dense)            (None, 32)                4128      \n",
      "                                                                 \n",
      " dense_27 (Dense)            (None, 2)                 66        \n",
      "                                                                 \n",
      "=================================================================\n",
      "Total params: 595,042\n",
      "Trainable params: 595,042\n",
      "Non-trainable params: 0\n",
      "_________________________________________________________________\n"
     ]
    }
   ],
   "source": [
    "model_LSTM.summary()"
   ]
  },
  {
   "cell_type": "code",
   "execution_count": 406,
   "metadata": {
    "colab": {
     "base_uri": "https://localhost:8080/"
    },
    "executionInfo": {
     "elapsed": 103078,
     "status": "ok",
     "timestamp": 1655149516907,
     "user": {
      "displayName": "Nguyễn Nathan",
      "userId": "02063277889349077620"
     },
     "user_tz": -420
    },
    "id": "7PZ5pd0Vlij4",
    "outputId": "7444d632-bc06-4ade-ee49-db8b3584f7fd"
   },
   "outputs": [
    {
     "name": "stdout",
     "output_type": "stream",
     "text": [
      "Epoch 1/200\n",
      "107/107 [==============================] - ETA: 0s - loss: 0.4457 - accuracy: 0.7965"
     ]
    },
    {
     "name": "stderr",
     "output_type": "stream",
     "text": [
      "WARNING:absl:Found untraced functions such as _update_step_xla, lstm_cell_16_layer_call_fn, lstm_cell_16_layer_call_and_return_conditional_losses, lstm_cell_17_layer_call_fn, lstm_cell_17_layer_call_and_return_conditional_losses while saving (showing 5 of 5). These functions will not be directly callable after loading.\n"
     ]
    },
    {
     "name": "stdout",
     "output_type": "stream",
     "text": [
      "INFO:tensorflow:Assets written to: PhoBert\\LSTM\\assets\n"
     ]
    },
    {
     "name": "stderr",
     "output_type": "stream",
     "text": [
      "INFO:tensorflow:Assets written to: PhoBert\\LSTM\\assets\n"
     ]
    },
    {
     "name": "stdout",
     "output_type": "stream",
     "text": [
      "107/107 [==============================] - 19s 126ms/step - loss: 0.4457 - accuracy: 0.7965 - val_loss: 0.3107 - val_accuracy: 0.8765\n",
      "Epoch 2/200\n",
      "107/107 [==============================] - ETA: 0s - loss: 0.3299 - accuracy: 0.8626"
     ]
    },
    {
     "name": "stderr",
     "output_type": "stream",
     "text": [
      "WARNING:absl:Found untraced functions such as _update_step_xla, lstm_cell_16_layer_call_fn, lstm_cell_16_layer_call_and_return_conditional_losses, lstm_cell_17_layer_call_fn, lstm_cell_17_layer_call_and_return_conditional_losses while saving (showing 5 of 5). These functions will not be directly callable after loading.\n"
     ]
    },
    {
     "name": "stdout",
     "output_type": "stream",
     "text": [
      "INFO:tensorflow:Assets written to: PhoBert\\LSTM\\assets\n"
     ]
    },
    {
     "name": "stderr",
     "output_type": "stream",
     "text": [
      "INFO:tensorflow:Assets written to: PhoBert\\LSTM\\assets\n"
     ]
    },
    {
     "name": "stdout",
     "output_type": "stream",
     "text": [
      "107/107 [==============================] - 13s 127ms/step - loss: 0.3299 - accuracy: 0.8626 - val_loss: 0.2831 - val_accuracy: 0.8894\n",
      "Epoch 3/200\n",
      "104/107 [============================>.] - ETA: 0s - loss: 0.2917 - accuracy: 0.8855"
     ]
    },
    {
     "name": "stderr",
     "output_type": "stream",
     "text": [
      "WARNING:absl:Found untraced functions such as _update_step_xla, lstm_cell_16_layer_call_fn, lstm_cell_16_layer_call_and_return_conditional_losses, lstm_cell_17_layer_call_fn, lstm_cell_17_layer_call_and_return_conditional_losses while saving (showing 5 of 5). These functions will not be directly callable after loading.\n"
     ]
    },
    {
     "name": "stdout",
     "output_type": "stream",
     "text": [
      "INFO:tensorflow:Assets written to: PhoBert\\LSTM\\assets\n"
     ]
    },
    {
     "name": "stderr",
     "output_type": "stream",
     "text": [
      "INFO:tensorflow:Assets written to: PhoBert\\LSTM\\assets\n"
     ]
    },
    {
     "name": "stdout",
     "output_type": "stream",
     "text": [
      "107/107 [==============================] - 11s 99ms/step - loss: 0.2902 - accuracy: 0.8856 - val_loss: 0.2684 - val_accuracy: 0.8894\n",
      "Epoch 4/200\n",
      "106/107 [============================>.] - ETA: 0s - loss: 0.2619 - accuracy: 0.9006"
     ]
    },
    {
     "name": "stderr",
     "output_type": "stream",
     "text": [
      "WARNING:absl:Found untraced functions such as _update_step_xla, lstm_cell_16_layer_call_fn, lstm_cell_16_layer_call_and_return_conditional_losses, lstm_cell_17_layer_call_fn, lstm_cell_17_layer_call_and_return_conditional_losses while saving (showing 5 of 5). These functions will not be directly callable after loading.\n"
     ]
    },
    {
     "name": "stdout",
     "output_type": "stream",
     "text": [
      "INFO:tensorflow:Assets written to: PhoBert\\LSTM\\assets\n"
     ]
    },
    {
     "name": "stderr",
     "output_type": "stream",
     "text": [
      "INFO:tensorflow:Assets written to: PhoBert\\LSTM\\assets\n"
     ]
    },
    {
     "name": "stdout",
     "output_type": "stream",
     "text": [
      "107/107 [==============================] - 12s 114ms/step - loss: 0.2615 - accuracy: 0.9009 - val_loss: 0.2611 - val_accuracy: 0.8976\n",
      "Epoch 5/200\n",
      "107/107 [==============================] - 3s 24ms/step - loss: 0.2448 - accuracy: 0.9053 - val_loss: 0.2767 - val_accuracy: 0.8906\n",
      "Epoch 6/200\n",
      "107/107 [==============================] - 3s 26ms/step - loss: 0.2167 - accuracy: 0.9088 - val_loss: 0.2802 - val_accuracy: 0.8953\n",
      "Epoch 7/200\n",
      "107/107 [==============================] - 3s 29ms/step - loss: 0.1854 - accuracy: 0.9309 - val_loss: 0.2911 - val_accuracy: 0.8871\n",
      "Epoch 8/200\n",
      "107/107 [==============================] - 3s 25ms/step - loss: 0.1724 - accuracy: 0.9329 - val_loss: 0.2941 - val_accuracy: 0.8953\n",
      "Epoch 9/200\n",
      "107/107 [==============================] - 3s 28ms/step - loss: 0.1569 - accuracy: 0.9400 - val_loss: 0.2881 - val_accuracy: 0.8988\n",
      "Epoch 10/200\n",
      "107/107 [==============================] - 2s 22ms/step - loss: 0.1435 - accuracy: 0.9468 - val_loss: 0.2709 - val_accuracy: 0.8988\n",
      "Epoch 11/200\n",
      "107/107 [==============================] - 3s 25ms/step - loss: 0.1039 - accuracy: 0.9618 - val_loss: 0.3400 - val_accuracy: 0.8965\n",
      "Epoch 12/200\n",
      "107/107 [==============================] - 3s 26ms/step - loss: 0.1037 - accuracy: 0.9594 - val_loss: 0.3399 - val_accuracy: 0.8941\n",
      "Epoch 13/200\n",
      "107/107 [==============================] - 2s 23ms/step - loss: 0.0895 - accuracy: 0.9656 - val_loss: 0.3464 - val_accuracy: 0.9047\n",
      "Epoch 14/200\n",
      "107/107 [==============================] - 2s 23ms/step - loss: 0.0697 - accuracy: 0.9759 - val_loss: 0.4092 - val_accuracy: 0.8965\n",
      "Epoch 15/200\n",
      "107/107 [==============================] - 3s 24ms/step - loss: 0.0790 - accuracy: 0.9703 - val_loss: 0.3731 - val_accuracy: 0.9012\n",
      "Epoch 16/200\n",
      "107/107 [==============================] - 2s 20ms/step - loss: 0.0616 - accuracy: 0.9771 - val_loss: 0.4102 - val_accuracy: 0.8976\n",
      "Epoch 17/200\n",
      "107/107 [==============================] - 2s 21ms/step - loss: 0.0531 - accuracy: 0.9803 - val_loss: 0.4641 - val_accuracy: 0.8929\n",
      "Epoch 18/200\n",
      "107/107 [==============================] - 2s 22ms/step - loss: 0.0593 - accuracy: 0.9791 - val_loss: 0.4191 - val_accuracy: 0.9000\n",
      "Epoch 19/200\n",
      "107/107 [==============================] - 2s 21ms/step - loss: 0.0427 - accuracy: 0.9835 - val_loss: 0.5043 - val_accuracy: 0.9047\n",
      "Epoch 20/200\n",
      "107/107 [==============================] - 3s 24ms/step - loss: 0.0610 - accuracy: 0.9794 - val_loss: 0.4537 - val_accuracy: 0.8882\n",
      "Epoch 21/200\n",
      "107/107 [==============================] - 3s 24ms/step - loss: 0.0439 - accuracy: 0.9850 - val_loss: 0.5177 - val_accuracy: 0.8941\n",
      "Epoch 22/200\n",
      "107/107 [==============================] - 2s 23ms/step - loss: 0.0318 - accuracy: 0.9897 - val_loss: 0.5504 - val_accuracy: 0.8929\n",
      "Epoch 23/200\n",
      "107/107 [==============================] - 2s 21ms/step - loss: 0.0275 - accuracy: 0.9900 - val_loss: 0.5927 - val_accuracy: 0.8988\n",
      "Epoch 24/200\n",
      "107/107 [==============================] - 2s 21ms/step - loss: 0.0386 - accuracy: 0.9862 - val_loss: 0.6126 - val_accuracy: 0.8918\n",
      "Epoch 25/200\n",
      "107/107 [==============================] - 2s 19ms/step - loss: 0.0467 - accuracy: 0.9841 - val_loss: 0.5060 - val_accuracy: 0.8988\n",
      "Epoch 26/200\n",
      "107/107 [==============================] - 2s 18ms/step - loss: 0.0395 - accuracy: 0.9865 - val_loss: 0.4729 - val_accuracy: 0.8976\n",
      "Epoch 27/200\n",
      "107/107 [==============================] - 2s 19ms/step - loss: 0.0360 - accuracy: 0.9879 - val_loss: 0.5457 - val_accuracy: 0.9059\n",
      "Epoch 28/200\n",
      "107/107 [==============================] - 2s 19ms/step - loss: 0.0302 - accuracy: 0.9909 - val_loss: 0.5629 - val_accuracy: 0.9059\n",
      "Epoch 29/200\n",
      "107/107 [==============================] - 2s 22ms/step - loss: 0.0265 - accuracy: 0.9903 - val_loss: 0.5723 - val_accuracy: 0.9012\n",
      "Epoch 30/200\n",
      "107/107 [==============================] - 2s 20ms/step - loss: 0.0281 - accuracy: 0.9891 - val_loss: 0.6393 - val_accuracy: 0.8859\n",
      "Epoch 31/200\n",
      "107/107 [==============================] - 2s 21ms/step - loss: 0.0388 - accuracy: 0.9862 - val_loss: 0.5550 - val_accuracy: 0.8976\n",
      "Epoch 32/200\n",
      "107/107 [==============================] - 2s 22ms/step - loss: 0.0302 - accuracy: 0.9888 - val_loss: 0.5576 - val_accuracy: 0.9012\n",
      "Epoch 33/200\n",
      "107/107 [==============================] - 2s 20ms/step - loss: 0.0306 - accuracy: 0.9909 - val_loss: 0.6056 - val_accuracy: 0.9035\n",
      "Epoch 34/200\n",
      "107/107 [==============================] - 2s 20ms/step - loss: 0.0236 - accuracy: 0.9921 - val_loss: 0.5359 - val_accuracy: 0.9106\n",
      "Epoch 35/200\n",
      "107/107 [==============================] - 2s 19ms/step - loss: 0.0288 - accuracy: 0.9900 - val_loss: 0.5362 - val_accuracy: 0.9024\n",
      "Epoch 36/200\n",
      "107/107 [==============================] - 2s 20ms/step - loss: 0.0463 - accuracy: 0.9844 - val_loss: 0.5011 - val_accuracy: 0.8859\n",
      "Epoch 37/200\n",
      "107/107 [==============================] - 2s 21ms/step - loss: 0.0205 - accuracy: 0.9921 - val_loss: 0.5700 - val_accuracy: 0.9106\n",
      "Epoch 38/200\n",
      "107/107 [==============================] - 2s 19ms/step - loss: 0.0113 - accuracy: 0.9968 - val_loss: 0.6597 - val_accuracy: 0.9094\n",
      "Epoch 39/200\n",
      "107/107 [==============================] - 2s 21ms/step - loss: 0.0225 - accuracy: 0.9921 - val_loss: 0.5597 - val_accuracy: 0.9047\n",
      "Epoch 40/200\n",
      "107/107 [==============================] - 2s 22ms/step - loss: 0.0313 - accuracy: 0.9888 - val_loss: 0.5604 - val_accuracy: 0.9035\n",
      "Epoch 41/200\n",
      "107/107 [==============================] - 2s 20ms/step - loss: 0.0316 - accuracy: 0.9876 - val_loss: 0.5159 - val_accuracy: 0.9047\n",
      "Epoch 42/200\n",
      "107/107 [==============================] - 2s 23ms/step - loss: 0.0221 - accuracy: 0.9912 - val_loss: 0.6442 - val_accuracy: 0.9000\n",
      "Epoch 43/200\n",
      "107/107 [==============================] - 2s 21ms/step - loss: 0.0195 - accuracy: 0.9935 - val_loss: 0.6148 - val_accuracy: 0.8894\n",
      "Epoch 44/200\n",
      "107/107 [==============================] - 2s 21ms/step - loss: 0.0227 - accuracy: 0.9926 - val_loss: 0.6552 - val_accuracy: 0.9047\n",
      "Epoch 45/200\n",
      "107/107 [==============================] - 2s 19ms/step - loss: 0.0244 - accuracy: 0.9909 - val_loss: 0.6393 - val_accuracy: 0.8988\n",
      "Epoch 46/200\n",
      "107/107 [==============================] - 2s 20ms/step - loss: 0.0157 - accuracy: 0.9947 - val_loss: 0.7141 - val_accuracy: 0.8882\n",
      "Epoch 47/200\n",
      "107/107 [==============================] - 2s 19ms/step - loss: 0.0219 - accuracy: 0.9918 - val_loss: 0.6295 - val_accuracy: 0.9094\n",
      "Epoch 48/200\n",
      "107/107 [==============================] - 2s 20ms/step - loss: 0.0152 - accuracy: 0.9944 - val_loss: 0.6896 - val_accuracy: 0.8988\n",
      "Epoch 49/200\n",
      "107/107 [==============================] - 2s 20ms/step - loss: 0.0131 - accuracy: 0.9962 - val_loss: 0.6949 - val_accuracy: 0.9047\n",
      "Epoch 50/200\n",
      "107/107 [==============================] - 2s 20ms/step - loss: 0.0157 - accuracy: 0.9944 - val_loss: 0.6036 - val_accuracy: 0.9000\n",
      "Epoch 51/200\n",
      "107/107 [==============================] - 2s 21ms/step - loss: 0.0187 - accuracy: 0.9956 - val_loss: 0.6637 - val_accuracy: 0.8965\n",
      "Epoch 52/200\n",
      "107/107 [==============================] - 2s 20ms/step - loss: 0.0448 - accuracy: 0.9835 - val_loss: 0.5962 - val_accuracy: 0.8941\n",
      "Epoch 53/200\n",
      "107/107 [==============================] - 2s 20ms/step - loss: 0.0210 - accuracy: 0.9924 - val_loss: 0.6924 - val_accuracy: 0.8918\n",
      "Epoch 54/200\n",
      "107/107 [==============================] - 2s 19ms/step - loss: 0.0217 - accuracy: 0.9926 - val_loss: 0.6817 - val_accuracy: 0.8988\n"
     ]
    }
   ],
   "source": [
    "history = model_LSTM.fit(np.array(X_train),np.array(y_train),validation_split=0.2, epochs=200,batch_size = 32, callbacks=[early_stopping,model_checkpoint])"
   ]
  },
  {
   "cell_type": "code",
   "execution_count": 409,
   "metadata": {
    "colab": {
     "base_uri": "https://localhost:8080/",
     "height": 283
    },
    "executionInfo": {
     "elapsed": 357,
     "status": "ok",
     "timestamp": 1655149555462,
     "user": {
      "displayName": "Nguyễn Nathan",
      "userId": "02063277889349077620"
     },
     "user_tz": -420
    },
    "id": "LqYxYiDRmWY2",
    "outputId": "6756c803-771d-4ed5-d9ef-ec61280de00f"
   },
   "outputs": [
    {
     "data": {
      "text/plain": [
       "<matplotlib.legend.Legend at 0x14acdb29510>"
      ]
     },
     "execution_count": 409,
     "metadata": {},
     "output_type": "execute_result"
    },
    {
     "data": {
      "image/png": "[encoded data removed]",
      "text/plain": [
       "<Figure size 640x480 with 1 Axes>"
      ]
     },
     "metadata": {},
     "output_type": "display_data"
    }
   ],
   "source": [
    "plt.plot(history.history['loss'], label='train')\n",
    "plt.plot(history.history['val_loss'], label='val')\n",
    "plt.legend()"
   ]
  },
  {
   "cell_type": "code",
   "execution_count": 410,
   "metadata": {
    "colab": {
     "base_uri": "https://localhost:8080/",
     "height": 283
    },
    "executionInfo": {
     "elapsed": 343,
     "status": "ok",
     "timestamp": 1655149572983,
     "user": {
      "displayName": "Nguyễn Nathan",
      "userId": "02063277889349077620"
     },
     "user_tz": -420
    },
    "id": "9aGXZNqYmfFz",
    "outputId": "74346bfe-7fc5-4e4c-eb1f-bd10b8636731"
   },
   "outputs": [
    {
     "data": {
      "text/plain": [
       "<matplotlib.legend.Legend at 0x14ad256fe80>"
      ]
     },
     "execution_count": 410,
     "metadata": {},
     "output_type": "execute_result"
    },
    {
     "data": {
      "image/png": "[encoded data removed]",
      "text/plain": [
       "<Figure size 640x480 with 1 Axes>"
      ]
     },
     "metadata": {},
     "output_type": "display_data"
    }
   ],
   "source": [
    "plt.plot(history.history['accuracy'], label='train')\n",
    "plt.plot(history.history['val_accuracy'], label='val')\n",
    "plt.legend()"
   ]
  },
  {
   "cell_type": "code",
   "execution_count": 411,
   "metadata": {
    "colab": {
     "base_uri": "https://localhost:8080/"
    },
    "executionInfo": {
     "elapsed": 516,
     "status": "ok",
     "timestamp": 1655149736870,
     "user": {
      "displayName": "Nguyễn Nathan",
      "userId": "02063277889349077620"
     },
     "user_tz": -420
    },
    "id": "nHu9YXWymjp4",
    "outputId": "57b1a386-a53c-47e7-f1a8-bfb793a89929"
   },
   "outputs": [
    {
     "name": "stdout",
     "output_type": "stream",
     "text": [
      "24/24 [==============================] - 0s 6ms/step - loss: 0.2687 - accuracy: 0.8960\n"
     ]
    },
    {
     "data": {
      "text/plain": [
       "[0.268676221370697, 0.8960000276565552]"
      ]
     },
     "execution_count": 411,
     "metadata": {},
     "output_type": "execute_result"
    }
   ],
   "source": [
    "model_LSTM.evaluate(np.array(np.expand_dims(X_test,1)),np.array(pd.get_dummies(y_test)))"
   ]
  },
  {
   "cell_type": "code",
   "execution_count": 260,
   "metadata": {},
   "outputs": [],
   "source": [
    "model_LSTM.save('model_LSTM_DS307.h5')"
   ]
  },
  {
   "cell_type": "markdown",
   "metadata": {
    "id": "EIxQ7hJsnPDe"
   },
   "source": [
    "**CNN**"
   ]
  },
  {
   "cell_type": "code",
   "execution_count": 282,
   "metadata": {
    "executionInfo": {
     "elapsed": 400,
     "status": "ok",
     "timestamp": 1655150215614,
     "user": {
      "displayName": "Nguyễn Nathan",
      "userId": "02063277889349077620"
     },
     "user_tz": -420
    },
    "id": "1LO3zZs5nQEs"
   },
   "outputs": [],
   "source": [
    "X_train, X_test, y_train, y_test = train_test_split(phobert_train, label, test_size=0.15, random_state=0)"
   ]
  },
  {
   "cell_type": "code",
   "execution_count": 283,
   "metadata": {
    "executionInfo": {
     "elapsed": 4,
     "status": "ok",
     "timestamp": 1655150216934,
     "user": {
      "displayName": "Nguyễn Nathan",
      "userId": "02063277889349077620"
     },
     "user_tz": -420
    },
    "id": "2HCfk7QnoOYa"
   },
   "outputs": [],
   "source": [
    "X_train = np.expand_dims(X_train,-1)"
   ]
  },
  {
   "cell_type": "code",
   "execution_count": 296,
   "metadata": {},
   "outputs": [
    {
     "name": "stdout",
     "output_type": "stream",
     "text": [
      "Model: \"sequential_10\"\n",
      "_________________________________________________________________\n",
      " Layer (type)                Output Shape              Param #   \n",
      "=================================================================\n",
      " conv1d_2 (Conv1D)           (None, 764, 128)          768       \n",
      "                                                                 \n",
      " conv1d_3 (Conv1D)           (None, 762, 64)           24640     \n",
      "                                                                 \n",
      " global_max_pooling1d_1 (Glo  (None, 64)               0         \n",
      " balMaxPooling1D)                                                \n",
      "                                                                 \n",
      " dense_24 (Dense)            (None, 32)                2080      \n",
      "                                                                 \n",
      " dense_25 (Dense)            (None, 3)                 99        \n",
      "                                                                 \n",
      "=================================================================\n",
      "Total params: 27,587\n",
      "Trainable params: 27,587\n",
      "Non-trainable params: 0\n",
      "_________________________________________________________________\n"
     ]
    }
   ],
   "source": [
    "CNN_model.summary()"
   ]
  },
  {
   "cell_type": "code",
   "execution_count": 284,
   "metadata": {
    "colab": {
     "base_uri": "https://localhost:8080/"
    },
    "executionInfo": {
     "elapsed": 96096,
     "status": "ok",
     "timestamp": 1655151058547,
     "user": {
      "displayName": "Nguyễn Nathan",
      "userId": "02063277889349077620"
     },
     "user_tz": -420
    },
    "id": "JUbUKicGnvfH",
    "outputId": "c2897070-f0f6-4953-ab68-95843fb888e7"
   },
   "outputs": [
    {
     "name": "stdout",
     "output_type": "stream",
     "text": [
      "Epoch 1/100\n",
      "106/107 [============================>.] - ETA: 0s - loss: 0.7357 - accuracy: 0.5342"
     ]
    },
    {
     "name": "stderr",
     "output_type": "stream",
     "text": [
      "WARNING:absl:Found untraced functions such as _jit_compiled_convolution_op, _jit_compiled_convolution_op, _update_step_xla while saving (showing 3 of 3). These functions will not be directly callable after loading.\n"
     ]
    },
    {
     "name": "stdout",
     "output_type": "stream",
     "text": [
      "INFO:tensorflow:Assets written to: PhoBert\\CNN\\assets\n"
     ]
    },
    {
     "name": "stderr",
     "output_type": "stream",
     "text": [
      "INFO:tensorflow:Assets written to: PhoBert\\CNN\\assets\n"
     ]
    },
    {
     "name": "stdout",
     "output_type": "stream",
     "text": [
      "107/107 [==============================] - 8s 68ms/step - loss: 0.7358 - accuracy: 0.5338 - val_loss: 0.6712 - val_accuracy: 0.5612\n",
      "Epoch 2/100\n",
      "106/107 [============================>.] - ETA: 0s - loss: 0.6627 - accuracy: 0.5991"
     ]
    },
    {
     "name": "stderr",
     "output_type": "stream",
     "text": [
      "WARNING:absl:Found untraced functions such as _jit_compiled_convolution_op, _jit_compiled_convolution_op, _update_step_xla while saving (showing 3 of 3). These functions will not be directly callable after loading.\n"
     ]
    },
    {
     "name": "stdout",
     "output_type": "stream",
     "text": [
      "INFO:tensorflow:Assets written to: PhoBert\\CNN\\assets\n"
     ]
    },
    {
     "name": "stderr",
     "output_type": "stream",
     "text": [
      "INFO:tensorflow:Assets written to: PhoBert\\CNN\\assets\n"
     ]
    },
    {
     "name": "stdout",
     "output_type": "stream",
     "text": [
      "107/107 [==============================] - 8s 73ms/step - loss: 0.6628 - accuracy: 0.5985 - val_loss: 0.6335 - val_accuracy: 0.6588\n",
      "Epoch 3/100\n",
      "106/107 [============================>.] - ETA: 0s - loss: 0.6375 - accuracy: 0.6421"
     ]
    },
    {
     "name": "stderr",
     "output_type": "stream",
     "text": [
      "WARNING:absl:Found untraced functions such as _jit_compiled_convolution_op, _jit_compiled_convolution_op, _update_step_xla while saving (showing 3 of 3). These functions will not be directly callable after loading.\n"
     ]
    },
    {
     "name": "stdout",
     "output_type": "stream",
     "text": [
      "INFO:tensorflow:Assets written to: PhoBert\\CNN\\assets\n"
     ]
    },
    {
     "name": "stderr",
     "output_type": "stream",
     "text": [
      "INFO:tensorflow:Assets written to: PhoBert\\CNN\\assets\n"
     ]
    },
    {
     "name": "stdout",
     "output_type": "stream",
     "text": [
      "107/107 [==============================] - 8s 73ms/step - loss: 0.6372 - accuracy: 0.6426 - val_loss: 0.6206 - val_accuracy: 0.6576\n",
      "Epoch 4/100\n",
      "107/107 [==============================] - 7s 66ms/step - loss: 0.6278 - accuracy: 0.6471 - val_loss: 0.6620 - val_accuracy: 0.5812\n",
      "Epoch 5/100\n",
      "106/107 [============================>.] - ETA: 0s - loss: 0.6162 - accuracy: 0.6560"
     ]
    },
    {
     "name": "stderr",
     "output_type": "stream",
     "text": [
      "WARNING:absl:Found untraced functions such as _jit_compiled_convolution_op, _jit_compiled_convolution_op, _update_step_xla while saving (showing 3 of 3). These functions will not be directly callable after loading.\n"
     ]
    },
    {
     "name": "stdout",
     "output_type": "stream",
     "text": [
      "INFO:tensorflow:Assets written to: PhoBert\\CNN\\assets\n"
     ]
    },
    {
     "name": "stderr",
     "output_type": "stream",
     "text": [
      "INFO:tensorflow:Assets written to: PhoBert\\CNN\\assets\n"
     ]
    },
    {
     "name": "stdout",
     "output_type": "stream",
     "text": [
      "107/107 [==============================] - 7s 70ms/step - loss: 0.6163 - accuracy: 0.6556 - val_loss: 0.6025 - val_accuracy: 0.6753\n",
      "Epoch 6/100\n",
      "107/107 [==============================] - ETA: 0s - loss: 0.6065 - accuracy: 0.6762"
     ]
    },
    {
     "name": "stderr",
     "output_type": "stream",
     "text": [
      "WARNING:absl:Found untraced functions such as _jit_compiled_convolution_op, _jit_compiled_convolution_op, _update_step_xla while saving (showing 3 of 3). These functions will not be directly callable after loading.\n"
     ]
    },
    {
     "name": "stdout",
     "output_type": "stream",
     "text": [
      "INFO:tensorflow:Assets written to: PhoBert\\CNN\\assets\n"
     ]
    },
    {
     "name": "stderr",
     "output_type": "stream",
     "text": [
      "INFO:tensorflow:Assets written to: PhoBert\\CNN\\assets\n"
     ]
    },
    {
     "name": "stdout",
     "output_type": "stream",
     "text": [
      "107/107 [==============================] - 9s 80ms/step - loss: 0.6065 - accuracy: 0.6762 - val_loss: 0.5823 - val_accuracy: 0.7035\n",
      "Epoch 7/100\n",
      "106/107 [============================>.] - ETA: 0s - loss: 0.5858 - accuracy: 0.6896"
     ]
    },
    {
     "name": "stderr",
     "output_type": "stream",
     "text": [
      "WARNING:absl:Found untraced functions such as _jit_compiled_convolution_op, _jit_compiled_convolution_op, _update_step_xla while saving (showing 3 of 3). These functions will not be directly callable after loading.\n"
     ]
    },
    {
     "name": "stdout",
     "output_type": "stream",
     "text": [
      "INFO:tensorflow:Assets written to: PhoBert\\CNN\\assets\n"
     ]
    },
    {
     "name": "stderr",
     "output_type": "stream",
     "text": [
      "INFO:tensorflow:Assets written to: PhoBert\\CNN\\assets\n"
     ]
    },
    {
     "name": "stdout",
     "output_type": "stream",
     "text": [
      "107/107 [==============================] - 8s 76ms/step - loss: 0.5859 - accuracy: 0.6894 - val_loss: 0.5798 - val_accuracy: 0.6906\n",
      "Epoch 8/100\n",
      "107/107 [==============================] - 8s 77ms/step - loss: 0.5809 - accuracy: 0.6941 - val_loss: 0.6066 - val_accuracy: 0.6588\n",
      "Epoch 9/100\n",
      "106/107 [============================>.] - ETA: 0s - loss: 0.5745 - accuracy: 0.6937"
     ]
    },
    {
     "name": "stderr",
     "output_type": "stream",
     "text": [
      "WARNING:absl:Found untraced functions such as _jit_compiled_convolution_op, _jit_compiled_convolution_op, _update_step_xla while saving (showing 3 of 3). These functions will not be directly callable after loading.\n"
     ]
    },
    {
     "name": "stdout",
     "output_type": "stream",
     "text": [
      "INFO:tensorflow:Assets written to: PhoBert\\CNN\\assets\n"
     ]
    },
    {
     "name": "stderr",
     "output_type": "stream",
     "text": [
      "INFO:tensorflow:Assets written to: PhoBert\\CNN\\assets\n"
     ]
    },
    {
     "name": "stdout",
     "output_type": "stream",
     "text": [
      "107/107 [==============================] - 7s 70ms/step - loss: 0.5739 - accuracy: 0.6941 - val_loss: 0.5638 - val_accuracy: 0.7153\n",
      "Epoch 10/100\n",
      "107/107 [==============================] - 8s 75ms/step - loss: 0.5784 - accuracy: 0.6885 - val_loss: 0.5672 - val_accuracy: 0.7165\n",
      "Epoch 11/100\n",
      "107/107 [==============================] - 7s 65ms/step - loss: 0.5653 - accuracy: 0.7000 - val_loss: 0.5651 - val_accuracy: 0.7106\n",
      "Epoch 12/100\n",
      "107/107 [==============================] - 8s 72ms/step - loss: 0.5693 - accuracy: 0.7021 - val_loss: 0.5647 - val_accuracy: 0.7059\n",
      "Epoch 13/100\n",
      "107/107 [==============================] - 7s 69ms/step - loss: 0.5965 - accuracy: 0.6776 - val_loss: 0.5814 - val_accuracy: 0.6800\n",
      "Epoch 14/100\n",
      "107/107 [==============================] - 9s 83ms/step - loss: 0.5656 - accuracy: 0.7056 - val_loss: 0.5676 - val_accuracy: 0.6941\n",
      "Epoch 15/100\n",
      "106/107 [============================>.] - ETA: 0s - loss: 0.5541 - accuracy: 0.7078"
     ]
    },
    {
     "name": "stderr",
     "output_type": "stream",
     "text": [
      "WARNING:absl:Found untraced functions such as _jit_compiled_convolution_op, _jit_compiled_convolution_op, _update_step_xla while saving (showing 3 of 3). These functions will not be directly callable after loading.\n"
     ]
    },
    {
     "name": "stdout",
     "output_type": "stream",
     "text": [
      "INFO:tensorflow:Assets written to: PhoBert\\CNN\\assets\n"
     ]
    },
    {
     "name": "stderr",
     "output_type": "stream",
     "text": [
      "INFO:tensorflow:Assets written to: PhoBert\\CNN\\assets\n"
     ]
    },
    {
     "name": "stdout",
     "output_type": "stream",
     "text": [
      "107/107 [==============================] - 8s 77ms/step - loss: 0.5540 - accuracy: 0.7079 - val_loss: 0.5566 - val_accuracy: 0.7176\n",
      "Epoch 16/100\n",
      "107/107 [==============================] - 8s 79ms/step - loss: 0.5597 - accuracy: 0.7103 - val_loss: 0.5802 - val_accuracy: 0.6835\n",
      "Epoch 17/100\n",
      "107/107 [==============================] - 7s 66ms/step - loss: 0.5579 - accuracy: 0.7059 - val_loss: 0.6235 - val_accuracy: 0.6576\n",
      "Epoch 18/100\n",
      "107/107 [==============================] - 8s 73ms/step - loss: 0.5448 - accuracy: 0.7276 - val_loss: 0.5837 - val_accuracy: 0.6859\n",
      "Epoch 19/100\n",
      "107/107 [==============================] - 7s 63ms/step - loss: 0.5607 - accuracy: 0.7009 - val_loss: 0.5587 - val_accuracy: 0.7176\n",
      "Epoch 20/100\n",
      "106/107 [============================>.] - ETA: 0s - loss: 0.5496 - accuracy: 0.7140"
     ]
    },
    {
     "name": "stderr",
     "output_type": "stream",
     "text": [
      "WARNING:absl:Found untraced functions such as _jit_compiled_convolution_op, _jit_compiled_convolution_op, _update_step_xla while saving (showing 3 of 3). These functions will not be directly callable after loading.\n"
     ]
    },
    {
     "name": "stdout",
     "output_type": "stream",
     "text": [
      "INFO:tensorflow:Assets written to: PhoBert\\CNN\\assets\n"
     ]
    },
    {
     "name": "stderr",
     "output_type": "stream",
     "text": [
      "INFO:tensorflow:Assets written to: PhoBert\\CNN\\assets\n"
     ]
    },
    {
     "name": "stdout",
     "output_type": "stream",
     "text": [
      "107/107 [==============================] - 9s 87ms/step - loss: 0.5499 - accuracy: 0.7135 - val_loss: 0.5545 - val_accuracy: 0.7141\n",
      "Epoch 21/100\n",
      "106/107 [============================>.] - ETA: 0s - loss: 0.5362 - accuracy: 0.7264"
     ]
    },
    {
     "name": "stderr",
     "output_type": "stream",
     "text": [
      "WARNING:absl:Found untraced functions such as _jit_compiled_convolution_op, _jit_compiled_convolution_op, _update_step_xla while saving (showing 3 of 3). These functions will not be directly callable after loading.\n"
     ]
    },
    {
     "name": "stdout",
     "output_type": "stream",
     "text": [
      "INFO:tensorflow:Assets written to: PhoBert\\CNN\\assets\n"
     ]
    },
    {
     "name": "stderr",
     "output_type": "stream",
     "text": [
      "INFO:tensorflow:Assets written to: PhoBert\\CNN\\assets\n"
     ]
    },
    {
     "name": "stdout",
     "output_type": "stream",
     "text": [
      "107/107 [==============================] - 7s 69ms/step - loss: 0.5362 - accuracy: 0.7262 - val_loss: 0.5462 - val_accuracy: 0.7200\n",
      "Epoch 22/100\n",
      "107/107 [==============================] - 8s 75ms/step - loss: 0.5527 - accuracy: 0.7200 - val_loss: 0.5470 - val_accuracy: 0.7212\n",
      "Epoch 23/100\n",
      "107/107 [==============================] - 8s 73ms/step - loss: 0.5355 - accuracy: 0.7256 - val_loss: 0.5738 - val_accuracy: 0.6941\n",
      "Epoch 24/100\n",
      "107/107 [==============================] - 9s 81ms/step - loss: 0.5342 - accuracy: 0.7338 - val_loss: 0.6156 - val_accuracy: 0.6682\n",
      "Epoch 25/100\n",
      "106/107 [============================>.] - ETA: 0s - loss: 0.5221 - accuracy: 0.7426"
     ]
    },
    {
     "name": "stderr",
     "output_type": "stream",
     "text": [
      "WARNING:absl:Found untraced functions such as _jit_compiled_convolution_op, _jit_compiled_convolution_op, _update_step_xla while saving (showing 3 of 3). These functions will not be directly callable after loading.\n"
     ]
    },
    {
     "name": "stdout",
     "output_type": "stream",
     "text": [
      "INFO:tensorflow:Assets written to: PhoBert\\CNN\\assets\n"
     ]
    },
    {
     "name": "stderr",
     "output_type": "stream",
     "text": [
      "INFO:tensorflow:Assets written to: PhoBert\\CNN\\assets\n"
     ]
    },
    {
     "name": "stdout",
     "output_type": "stream",
     "text": [
      "107/107 [==============================] - 7s 69ms/step - loss: 0.5222 - accuracy: 0.7426 - val_loss: 0.5451 - val_accuracy: 0.7306\n",
      "Epoch 26/100\n",
      "107/107 [==============================] - 7s 69ms/step - loss: 0.5191 - accuracy: 0.7374 - val_loss: 0.5553 - val_accuracy: 0.7071\n",
      "Epoch 27/100\n",
      "106/107 [============================>.] - ETA: 0s - loss: 0.5201 - accuracy: 0.7420"
     ]
    },
    {
     "name": "stderr",
     "output_type": "stream",
     "text": [
      "WARNING:absl:Found untraced functions such as _jit_compiled_convolution_op, _jit_compiled_convolution_op, _update_step_xla while saving (showing 3 of 3). These functions will not be directly callable after loading.\n"
     ]
    },
    {
     "name": "stdout",
     "output_type": "stream",
     "text": [
      "INFO:tensorflow:Assets written to: PhoBert\\CNN\\assets\n"
     ]
    },
    {
     "name": "stderr",
     "output_type": "stream",
     "text": [
      "INFO:tensorflow:Assets written to: PhoBert\\CNN\\assets\n"
     ]
    },
    {
     "name": "stdout",
     "output_type": "stream",
     "text": [
      "107/107 [==============================] - 7s 62ms/step - loss: 0.5202 - accuracy: 0.7424 - val_loss: 0.5436 - val_accuracy: 0.7353\n",
      "Epoch 28/100\n",
      "107/107 [==============================] - 7s 63ms/step - loss: 0.5197 - accuracy: 0.7497 - val_loss: 0.6006 - val_accuracy: 0.6812\n",
      "Epoch 29/100\n",
      "107/107 [==============================] - 7s 63ms/step - loss: 0.5255 - accuracy: 0.7382 - val_loss: 0.6295 - val_accuracy: 0.6671\n",
      "Epoch 30/100\n",
      "107/107 [==============================] - 6s 60ms/step - loss: 0.5164 - accuracy: 0.7409 - val_loss: 0.5622 - val_accuracy: 0.7212\n",
      "Epoch 31/100\n",
      "107/107 [==============================] - 7s 67ms/step - loss: 0.5242 - accuracy: 0.7391 - val_loss: 0.6292 - val_accuracy: 0.6647\n",
      "Epoch 32/100\n",
      "106/107 [============================>.] - ETA: 0s - loss: 0.5311 - accuracy: 0.7279"
     ]
    },
    {
     "name": "stderr",
     "output_type": "stream",
     "text": [
      "WARNING:absl:Found untraced functions such as _jit_compiled_convolution_op, _jit_compiled_convolution_op, _update_step_xla while saving (showing 3 of 3). These functions will not be directly callable after loading.\n"
     ]
    },
    {
     "name": "stdout",
     "output_type": "stream",
     "text": [
      "INFO:tensorflow:Assets written to: PhoBert\\CNN\\assets\n"
     ]
    },
    {
     "name": "stderr",
     "output_type": "stream",
     "text": [
      "INFO:tensorflow:Assets written to: PhoBert\\CNN\\assets\n"
     ]
    },
    {
     "name": "stdout",
     "output_type": "stream",
     "text": [
      "107/107 [==============================] - 12s 113ms/step - loss: 0.5312 - accuracy: 0.7276 - val_loss: 0.5309 - val_accuracy: 0.7306\n",
      "Epoch 33/100\n",
      "107/107 [==============================] - 11s 106ms/step - loss: 0.5086 - accuracy: 0.7453 - val_loss: 0.5404 - val_accuracy: 0.7294\n",
      "Epoch 34/100\n",
      "107/107 [==============================] - 11s 104ms/step - loss: 0.5071 - accuracy: 0.7459 - val_loss: 0.5348 - val_accuracy: 0.7341\n",
      "Epoch 35/100\n",
      "107/107 [==============================] - 9s 88ms/step - loss: 0.5131 - accuracy: 0.7409 - val_loss: 0.6260 - val_accuracy: 0.6588\n",
      "Epoch 36/100\n",
      "107/107 [==============================] - 10s 93ms/step - loss: 0.5215 - accuracy: 0.7341 - val_loss: 0.5367 - val_accuracy: 0.7353\n",
      "Epoch 37/100\n",
      "107/107 [==============================] - 10s 91ms/step - loss: 0.5359 - accuracy: 0.7312 - val_loss: 0.6483 - val_accuracy: 0.6647\n",
      "Epoch 38/100\n",
      "107/107 [==============================] - 9s 80ms/step - loss: 0.4978 - accuracy: 0.7615 - val_loss: 0.5716 - val_accuracy: 0.7129\n",
      "Epoch 39/100\n",
      "107/107 [==============================] - 11s 102ms/step - loss: 0.4941 - accuracy: 0.7559 - val_loss: 0.5363 - val_accuracy: 0.7306\n",
      "Epoch 40/100\n",
      "107/107 [==============================] - 12s 109ms/step - loss: 0.5222 - accuracy: 0.7432 - val_loss: 0.5636 - val_accuracy: 0.7212\n",
      "Epoch 41/100\n",
      "107/107 [==============================] - 10s 98ms/step - loss: 0.5129 - accuracy: 0.7409 - val_loss: 0.5625 - val_accuracy: 0.7118\n",
      "Epoch 42/100\n",
      "107/107 [==============================] - 12s 112ms/step - loss: 0.4876 - accuracy: 0.7606 - val_loss: 0.5723 - val_accuracy: 0.6918\n",
      "Epoch 43/100\n",
      "107/107 [==============================] - 12s 108ms/step - loss: 0.5052 - accuracy: 0.7538 - val_loss: 0.5358 - val_accuracy: 0.7282\n",
      "Epoch 44/100\n",
      "107/107 [==============================] - 10s 95ms/step - loss: 0.5027 - accuracy: 0.7526 - val_loss: 0.5522 - val_accuracy: 0.7059\n",
      "Epoch 45/100\n",
      "107/107 [==============================] - 10s 95ms/step - loss: 0.4817 - accuracy: 0.7715 - val_loss: 0.5349 - val_accuracy: 0.7341\n",
      "Epoch 46/100\n",
      "107/107 [==============================] - 10s 96ms/step - loss: 0.4756 - accuracy: 0.7706 - val_loss: 0.5355 - val_accuracy: 0.7341\n",
      "Epoch 47/100\n",
      "107/107 [==============================] - 9s 87ms/step - loss: 0.4806 - accuracy: 0.7703 - val_loss: 0.5620 - val_accuracy: 0.7235\n",
      "Epoch 48/100\n",
      "107/107 [==============================] - 11s 103ms/step - loss: 0.4924 - accuracy: 0.7588 - val_loss: 0.5415 - val_accuracy: 0.7271\n",
      "Epoch 49/100\n",
      "107/107 [==============================] - 10s 90ms/step - loss: 0.4804 - accuracy: 0.7712 - val_loss: 0.5443 - val_accuracy: 0.7235\n",
      "Epoch 50/100\n",
      "106/107 [============================>.] - ETA: 0s - loss: 0.4751 - accuracy: 0.7689"
     ]
    },
    {
     "name": "stderr",
     "output_type": "stream",
     "text": [
      "WARNING:absl:Found untraced functions such as _jit_compiled_convolution_op, _jit_compiled_convolution_op, _update_step_xla while saving (showing 3 of 3). These functions will not be directly callable after loading.\n"
     ]
    },
    {
     "name": "stdout",
     "output_type": "stream",
     "text": [
      "INFO:tensorflow:Assets written to: PhoBert\\CNN\\assets\n"
     ]
    },
    {
     "name": "stderr",
     "output_type": "stream",
     "text": [
      "INFO:tensorflow:Assets written to: PhoBert\\CNN\\assets\n"
     ]
    },
    {
     "name": "stdout",
     "output_type": "stream",
     "text": [
      "107/107 [==============================] - 10s 90ms/step - loss: 0.4758 - accuracy: 0.7682 - val_loss: 0.5250 - val_accuracy: 0.7329\n",
      "Epoch 51/100\n",
      "107/107 [==============================] - 10s 91ms/step - loss: 0.4846 - accuracy: 0.7591 - val_loss: 0.5275 - val_accuracy: 0.7424\n",
      "Epoch 52/100\n",
      "107/107 [==============================] - 9s 85ms/step - loss: 0.4769 - accuracy: 0.7706 - val_loss: 0.5274 - val_accuracy: 0.7365\n",
      "Epoch 53/100\n",
      "106/107 [============================>.] - ETA: 0s - loss: 0.4713 - accuracy: 0.7721"
     ]
    },
    {
     "name": "stderr",
     "output_type": "stream",
     "text": [
      "WARNING:absl:Found untraced functions such as _jit_compiled_convolution_op, _jit_compiled_convolution_op, _update_step_xla while saving (showing 3 of 3). These functions will not be directly callable after loading.\n"
     ]
    },
    {
     "name": "stdout",
     "output_type": "stream",
     "text": [
      "INFO:tensorflow:Assets written to: PhoBert\\CNN\\assets\n"
     ]
    },
    {
     "name": "stderr",
     "output_type": "stream",
     "text": [
      "INFO:tensorflow:Assets written to: PhoBert\\CNN\\assets\n"
     ]
    },
    {
     "name": "stdout",
     "output_type": "stream",
     "text": [
      "107/107 [==============================] - 10s 97ms/step - loss: 0.4713 - accuracy: 0.7721 - val_loss: 0.5250 - val_accuracy: 0.7388\n",
      "Epoch 54/100\n",
      "107/107 [==============================] - 9s 89ms/step - loss: 0.4967 - accuracy: 0.7553 - val_loss: 0.5828 - val_accuracy: 0.7094\n",
      "Epoch 55/100\n",
      "107/107 [==============================] - 9s 86ms/step - loss: 0.5098 - accuracy: 0.7424 - val_loss: 0.5273 - val_accuracy: 0.7388\n",
      "Epoch 56/100\n",
      "107/107 [==============================] - 11s 103ms/step - loss: 0.4970 - accuracy: 0.7571 - val_loss: 0.6229 - val_accuracy: 0.6835\n",
      "Epoch 57/100\n",
      "107/107 [==============================] - 11s 99ms/step - loss: 0.4890 - accuracy: 0.7626 - val_loss: 0.5331 - val_accuracy: 0.7365\n",
      "Epoch 58/100\n",
      "107/107 [==============================] - 11s 102ms/step - loss: 0.4802 - accuracy: 0.7650 - val_loss: 0.5282 - val_accuracy: 0.7412\n",
      "Epoch 59/100\n",
      "107/107 [==============================] - 11s 103ms/step - loss: 0.4697 - accuracy: 0.7732 - val_loss: 0.5355 - val_accuracy: 0.7388\n",
      "Epoch 60/100\n",
      "107/107 [==============================] - 10s 96ms/step - loss: 0.4969 - accuracy: 0.7491 - val_loss: 0.6596 - val_accuracy: 0.6671\n",
      "Epoch 61/100\n",
      "107/107 [==============================] - 10s 90ms/step - loss: 0.4709 - accuracy: 0.7721 - val_loss: 0.5255 - val_accuracy: 0.7412\n",
      "Epoch 62/100\n",
      "107/107 [==============================] - 10s 98ms/step - loss: 0.5083 - accuracy: 0.7468 - val_loss: 0.5570 - val_accuracy: 0.7188\n",
      "Epoch 63/100\n",
      "106/107 [============================>.] - ETA: 0s - loss: 0.4675 - accuracy: 0.7706"
     ]
    },
    {
     "name": "stderr",
     "output_type": "stream",
     "text": [
      "WARNING:absl:Found untraced functions such as _jit_compiled_convolution_op, _jit_compiled_convolution_op, _update_step_xla while saving (showing 3 of 3). These functions will not be directly callable after loading.\n"
     ]
    },
    {
     "name": "stdout",
     "output_type": "stream",
     "text": [
      "INFO:tensorflow:Assets written to: PhoBert\\CNN\\assets\n"
     ]
    },
    {
     "name": "stderr",
     "output_type": "stream",
     "text": [
      "INFO:tensorflow:Assets written to: PhoBert\\CNN\\assets\n"
     ]
    },
    {
     "name": "stdout",
     "output_type": "stream",
     "text": [
      "107/107 [==============================] - 10s 92ms/step - loss: 0.4681 - accuracy: 0.7700 - val_loss: 0.5236 - val_accuracy: 0.7388\n",
      "Epoch 64/100\n",
      "107/107 [==============================] - 10s 92ms/step - loss: 0.4615 - accuracy: 0.7788 - val_loss: 0.5606 - val_accuracy: 0.7224\n",
      "Epoch 65/100\n",
      "107/107 [==============================] - 10s 97ms/step - loss: 0.4777 - accuracy: 0.7674 - val_loss: 0.5305 - val_accuracy: 0.7435\n",
      "Epoch 66/100\n",
      "107/107 [==============================] - 9s 83ms/step - loss: 0.4928 - accuracy: 0.7626 - val_loss: 0.5286 - val_accuracy: 0.7482\n",
      "Epoch 67/100\n",
      "107/107 [==============================] - 10s 94ms/step - loss: 0.4681 - accuracy: 0.7741 - val_loss: 0.5615 - val_accuracy: 0.7024\n",
      "Epoch 68/100\n",
      "107/107 [==============================] - 10s 91ms/step - loss: 0.4811 - accuracy: 0.7621 - val_loss: 0.5278 - val_accuracy: 0.7353\n",
      "Epoch 69/100\n",
      "107/107 [==============================] - 10s 91ms/step - loss: 0.4684 - accuracy: 0.7718 - val_loss: 0.5350 - val_accuracy: 0.7306\n",
      "Epoch 70/100\n",
      "107/107 [==============================] - 10s 95ms/step - loss: 0.4880 - accuracy: 0.7635 - val_loss: 0.6039 - val_accuracy: 0.6918\n",
      "Epoch 71/100\n",
      "107/107 [==============================] - 10s 90ms/step - loss: 0.4697 - accuracy: 0.7724 - val_loss: 0.6451 - val_accuracy: 0.6800\n",
      "Epoch 72/100\n",
      "107/107 [==============================] - 10s 93ms/step - loss: 0.4904 - accuracy: 0.7565 - val_loss: 0.5878 - val_accuracy: 0.6976\n",
      "Epoch 73/100\n",
      "107/107 [==============================] - 10s 94ms/step - loss: 0.4746 - accuracy: 0.7721 - val_loss: 0.5612 - val_accuracy: 0.7247\n",
      "Epoch 74/100\n",
      "107/107 [==============================] - 10s 89ms/step - loss: 0.4640 - accuracy: 0.7744 - val_loss: 0.5352 - val_accuracy: 0.7435\n",
      "Epoch 75/100\n",
      "107/107 [==============================] - 10s 92ms/step - loss: 0.4740 - accuracy: 0.7644 - val_loss: 0.5463 - val_accuracy: 0.7247\n",
      "Epoch 76/100\n",
      "107/107 [==============================] - 9s 83ms/step - loss: 0.4683 - accuracy: 0.7721 - val_loss: 0.5412 - val_accuracy: 0.7318\n",
      "Epoch 77/100\n",
      "107/107 [==============================] - 10s 91ms/step - loss: 0.4827 - accuracy: 0.7747 - val_loss: 0.6810 - val_accuracy: 0.6506\n",
      "Epoch 78/100\n",
      "107/107 [==============================] - 9s 87ms/step - loss: 0.4767 - accuracy: 0.7656 - val_loss: 0.6256 - val_accuracy: 0.6953\n",
      "Epoch 79/100\n",
      "107/107 [==============================] - 9s 87ms/step - loss: 0.4583 - accuracy: 0.7756 - val_loss: 0.5335 - val_accuracy: 0.7341\n",
      "Epoch 80/100\n",
      "107/107 [==============================] - 10s 92ms/step - loss: 0.4625 - accuracy: 0.7853 - val_loss: 0.5275 - val_accuracy: 0.7388\n",
      "Epoch 81/100\n",
      "107/107 [==============================] - 9s 80ms/step - loss: 0.4745 - accuracy: 0.7700 - val_loss: 0.5671 - val_accuracy: 0.7129\n",
      "Epoch 82/100\n",
      "107/107 [==============================] - 10s 92ms/step - loss: 0.4713 - accuracy: 0.7759 - val_loss: 0.5303 - val_accuracy: 0.7306\n",
      "Epoch 83/100\n",
      "107/107 [==============================] - 9s 82ms/step - loss: 0.4570 - accuracy: 0.7803 - val_loss: 0.6199 - val_accuracy: 0.6953\n",
      "Epoch 84/100\n",
      "107/107 [==============================] - 10s 89ms/step - loss: 0.4707 - accuracy: 0.7697 - val_loss: 0.5331 - val_accuracy: 0.7447\n",
      "Epoch 85/100\n",
      "107/107 [==============================] - 9s 87ms/step - loss: 0.4589 - accuracy: 0.7791 - val_loss: 0.5377 - val_accuracy: 0.7435\n",
      "Epoch 86/100\n",
      "107/107 [==============================] - 9s 84ms/step - loss: 0.4625 - accuracy: 0.7741 - val_loss: 0.5353 - val_accuracy: 0.7341\n",
      "Epoch 87/100\n",
      "107/107 [==============================] - 10s 90ms/step - loss: 0.4628 - accuracy: 0.7779 - val_loss: 0.5724 - val_accuracy: 0.7153\n",
      "Epoch 88/100\n",
      "107/107 [==============================] - 9s 82ms/step - loss: 0.4632 - accuracy: 0.7759 - val_loss: 0.5347 - val_accuracy: 0.7424\n",
      "Epoch 89/100\n",
      "107/107 [==============================] - 10s 95ms/step - loss: 0.4738 - accuracy: 0.7688 - val_loss: 0.5662 - val_accuracy: 0.7153\n",
      "Epoch 90/100\n",
      "107/107 [==============================] - 9s 82ms/step - loss: 0.4792 - accuracy: 0.7606 - val_loss: 0.5464 - val_accuracy: 0.7247\n",
      "Epoch 91/100\n",
      "107/107 [==============================] - 9s 82ms/step - loss: 0.4594 - accuracy: 0.7735 - val_loss: 0.5437 - val_accuracy: 0.7306\n",
      "Epoch 92/100\n",
      "107/107 [==============================] - 9s 84ms/step - loss: 0.4525 - accuracy: 0.7818 - val_loss: 0.5488 - val_accuracy: 0.7282\n",
      "Epoch 93/100\n",
      "107/107 [==============================] - 9s 81ms/step - loss: 0.4711 - accuracy: 0.7679 - val_loss: 0.5365 - val_accuracy: 0.7376\n",
      "Epoch 94/100\n",
      "107/107 [==============================] - 9s 86ms/step - loss: 0.4613 - accuracy: 0.7756 - val_loss: 0.5401 - val_accuracy: 0.7376\n",
      "Epoch 95/100\n",
      "107/107 [==============================] - 8s 78ms/step - loss: 0.4467 - accuracy: 0.7841 - val_loss: 0.5334 - val_accuracy: 0.7412\n",
      "Epoch 96/100\n",
      "107/107 [==============================] - 9s 84ms/step - loss: 0.4589 - accuracy: 0.7806 - val_loss: 0.5437 - val_accuracy: 0.7365\n",
      "Epoch 97/100\n",
      "107/107 [==============================] - 8s 79ms/step - loss: 0.4680 - accuracy: 0.7788 - val_loss: 0.5446 - val_accuracy: 0.7282\n",
      "Epoch 98/100\n",
      "107/107 [==============================] - 9s 84ms/step - loss: 0.4578 - accuracy: 0.7800 - val_loss: 0.5960 - val_accuracy: 0.6918\n",
      "Epoch 99/100\n",
      "107/107 [==============================] - 9s 80ms/step - loss: 0.4700 - accuracy: 0.7656 - val_loss: 0.5429 - val_accuracy: 0.7259\n",
      "Epoch 100/100\n",
      "107/107 [==============================] - 11s 102ms/step - loss: 0.4643 - accuracy: 0.7750 - val_loss: 0.5423 - val_accuracy: 0.7318\n"
     ]
    }
   ],
   "source": [
    "CNN_model = tf.keras.models.Sequential([\n",
    "              Conv1D(128, kernel_size=5, input_shape=(768,1)),\n",
    "              Conv1D(64, kernel_size=3, activation='relu'),\n",
    "              GlobalMaxPooling1D(),\n",
    "              Dense(32, activation='relu'),\n",
    "              Dense(3, activation='softmax')                            \n",
    "            ])\n",
    "model_checkpoint = tf.keras.callbacks.ModelCheckpoint(checkpoint_path + 'CNN', monitor='val_loss', save_best_only=True, save_feq='epoch')\n",
    "CNN_model.compile(optimizer='adam', loss='sparse_categorical_crossentropy', metrics=['accuracy'])\n",
    "history_CNN = CNN_model.fit(np.array(X_train),np.array(y_train), epochs=100, verbose=1, validation_split=0.2,callbacks=[early_stopping,model_checkpoint])"
   ]
  },
  {
   "cell_type": "code",
   "execution_count": 288,
   "metadata": {
    "colab": {
     "base_uri": "https://localhost:8080/",
     "height": 283
    },
    "executionInfo": {
     "elapsed": 38128,
     "status": "ok",
     "timestamp": 1655151105386,
     "user": {
      "displayName": "Nguyễn Nathan",
      "userId": "02063277889349077620"
     },
     "user_tz": -420
    },
    "id": "zsX14efvp0bm",
    "outputId": "382be7e6-d7fb-496a-a59f-4b6c48314854"
   },
   "outputs": [
    {
     "data": {
      "text/plain": [
       "<matplotlib.legend.Legend at 0x14acda867d0>"
      ]
     },
     "execution_count": 288,
     "metadata": {},
     "output_type": "execute_result"
    },
    {
     "data": {
      "image/png": "[encoded data removed]",
      "text/plain": [
       "<Figure size 640x480 with 1 Axes>"
      ]
     },
     "metadata": {},
     "output_type": "display_data"
    }
   ],
   "source": [
    "plt.plot(history_CNN.history['loss'], label='train')\n",
    "plt.plot(history_CNN.history['val_loss'], label='val')\n",
    "plt.legend()"
   ]
  },
  {
   "cell_type": "code",
   "execution_count": 289,
   "metadata": {
    "colab": {
     "base_uri": "https://localhost:8080/",
     "height": 283
    },
    "executionInfo": {
     "elapsed": 25,
     "status": "ok",
     "timestamp": 1655151105388,
     "user": {
      "displayName": "Nguyễn Nathan",
      "userId": "02063277889349077620"
     },
     "user_tz": -420
    },
    "id": "j9ReZPtvp8rM",
    "outputId": "bce6d4ee-e49c-4c78-da4c-08d0dd5f71f3"
   },
   "outputs": [
    {
     "data": {
      "text/plain": [
       "<matplotlib.legend.Legend at 0x14adcf769e0>"
      ]
     },
     "execution_count": 289,
     "metadata": {},
     "output_type": "execute_result"
    },
    {
     "data": {
      "image/png": "[encoded data removed]",
      "text/plain": [
       "<Figure size 640x480 with 1 Axes>"
      ]
     },
     "metadata": {},
     "output_type": "display_data"
    }
   ],
   "source": [
    "plt.plot(history_CNN.history['accuracy'], label='train')\n",
    "plt.plot(history_CNN.history['val_accuracy'], label='val')\n",
    "plt.legend()"
   ]
  },
  {
   "cell_type": "code",
   "execution_count": 290,
   "metadata": {
    "colab": {
     "base_uri": "https://localhost:8080/"
    },
    "executionInfo": {
     "elapsed": 734,
     "status": "ok",
     "timestamp": 1655151121319,
     "user": {
      "displayName": "Nguyễn Nathan",
      "userId": "02063277889349077620"
     },
     "user_tz": -420
    },
    "id": "QEpDvj4Bra4m",
    "outputId": "f134dc82-5428-4eef-82c9-fe162146f55b"
   },
   "outputs": [
    {
     "name": "stdout",
     "output_type": "stream",
     "text": [
      "24/24 [==============================] - 1s 33ms/step - loss: 0.5428 - accuracy: 0.7333\n"
     ]
    },
    {
     "data": {
      "text/plain": [
       "[0.5427696108818054, 0.7333333492279053]"
      ]
     },
     "execution_count": 290,
     "metadata": {},
     "output_type": "execute_result"
    }
   ],
   "source": [
    "CNN_model.evaluate(np.array(np.expand_dims(X_test,-1)),np.array(y_test))"
   ]
  },
  {
   "cell_type": "markdown",
   "metadata": {
    "id": "eeeM1R98qCoK"
   },
   "source": [
    "**MLP**"
   ]
  },
  {
   "cell_type": "code",
   "execution_count": 274,
   "metadata": {},
   "outputs": [],
   "source": [
    "import tensorflow as tf\n",
    "from tensorflow.keras.models import Sequential\n",
    "from tensorflow.keras.layers import Input, Dense\n"
   ]
  },
  {
   "cell_type": "code",
   "execution_count": 275,
   "metadata": {
    "executionInfo": {
     "elapsed": 405,
     "status": "ok",
     "timestamp": 1655150625438,
     "user": {
      "displayName": "Nguyễn Nathan",
      "userId": "02063277889349077620"
     },
     "user_tz": -420
    },
    "id": "00SOJrHQqDnB"
   },
   "outputs": [],
   "source": [
    "MLP_MODEL = Sequential()\n",
    "MLP_MODEL.add(Input(768,1))\n",
    "MLP_MODEL.add(Dense(200, activation='relu'))\n",
    "MLP_MODEL.add(Dense(100, activation='relu'))\n",
    "MLP_MODEL.add(Dense(20, activation='relu'))\n",
    "MLP_MODEL.add(Dense(2, activation='softmax'))"
   ]
  },
  {
   "cell_type": "code",
   "execution_count": 298,
   "metadata": {},
   "outputs": [
    {
     "name": "stdout",
     "output_type": "stream",
     "text": [
      "Model: \"sequential_9\"\n",
      "_________________________________________________________________\n",
      " Layer (type)                Output Shape              Param #   \n",
      "=================================================================\n",
      " dense_20 (Dense)            (1, 200)                  153800    \n",
      "                                                                 \n",
      " dense_21 (Dense)            (1, 100)                  20100     \n",
      "                                                                 \n",
      " dense_22 (Dense)            (1, 20)                   2020      \n",
      "                                                                 \n",
      " dense_23 (Dense)            (1, 2)                    42        \n",
      "                                                                 \n",
      "=================================================================\n",
      "Total params: 175,962\n",
      "Trainable params: 175,962\n",
      "Non-trainable params: 0\n",
      "_________________________________________________________________\n"
     ]
    }
   ],
   "source": [
    "MLP_MODEL.summary()"
   ]
  },
  {
   "cell_type": "code",
   "execution_count": 276,
   "metadata": {
    "colab": {
     "base_uri": "https://localhost:8080/"
    },
    "executionInfo": {
     "elapsed": 60647,
     "status": "ok",
     "timestamp": 1655150741487,
     "user": {
      "displayName": "Nguyễn Nathan",
      "userId": "02063277889349077620"
     },
     "user_tz": -420
    },
    "id": "J_CtBtTCqDwn",
    "outputId": "bb80b2e7-b7a9-426a-d54a-f668621ecf70"
   },
   "outputs": [
    {
     "name": "stdout",
     "output_type": "stream",
     "text": [
      "Epoch 1/200\n",
      " 93/107 [=========================>....] - ETA: 0s - loss: 13.3296 - accuracy: 0.8044"
     ]
    },
    {
     "name": "stderr",
     "output_type": "stream",
     "text": [
      "WARNING:absl:Found untraced functions such as _update_step_xla while saving (showing 1 of 1). These functions will not be directly callable after loading.\n"
     ]
    },
    {
     "name": "stdout",
     "output_type": "stream",
     "text": [
      "INFO:tensorflow:Assets written to: PhoBert\\MLP\\assets\n"
     ]
    },
    {
     "name": "stderr",
     "output_type": "stream",
     "text": [
      "INFO:tensorflow:Assets written to: PhoBert\\MLP\\assets\n"
     ]
    },
    {
     "name": "stdout",
     "output_type": "stream",
     "text": [
      "107/107 [==============================] - 2s 11ms/step - loss: 12.9924 - accuracy: 0.8138 - val_loss: 9.3042 - val_accuracy: 0.8894\n",
      "Epoch 2/200\n",
      "107/107 [==============================] - 0s 4ms/step - loss: 8.9391 - accuracy: 0.8856 - val_loss: 10.5156 - val_accuracy: 0.8588\n",
      "Epoch 3/200\n",
      "107/107 [==============================] - 0s 4ms/step - loss: 7.5681 - accuracy: 0.9100 - val_loss: 10.0759 - val_accuracy: 0.8741\n",
      "Epoch 4/200\n",
      "106/107 [============================>.] - ETA: 0s - loss: 6.1631 - accuracy: 0.9295"
     ]
    },
    {
     "name": "stderr",
     "output_type": "stream",
     "text": [
      "WARNING:absl:Found untraced functions such as _update_step_xla while saving (showing 1 of 1). These functions will not be directly callable after loading.\n"
     ]
    },
    {
     "name": "stdout",
     "output_type": "stream",
     "text": [
      "INFO:tensorflow:Assets written to: PhoBert\\MLP\\assets\n"
     ]
    },
    {
     "name": "stderr",
     "output_type": "stream",
     "text": [
      "INFO:tensorflow:Assets written to: PhoBert\\MLP\\assets\n"
     ]
    },
    {
     "name": "stdout",
     "output_type": "stream",
     "text": [
      "107/107 [==============================] - 1s 10ms/step - loss: 6.1506 - accuracy: 0.9297 - val_loss: 8.9952 - val_accuracy: 0.8859\n",
      "Epoch 5/200\n",
      "107/107 [==============================] - 0s 4ms/step - loss: 4.2471 - accuracy: 0.9503 - val_loss: 9.2572 - val_accuracy: 0.8953\n",
      "Epoch 6/200\n",
      "107/107 [==============================] - 0s 4ms/step - loss: 3.5581 - accuracy: 0.9600 - val_loss: 9.6017 - val_accuracy: 0.9035\n",
      "Epoch 7/200\n",
      "107/107 [==============================] - 0s 5ms/step - loss: 2.5569 - accuracy: 0.9741 - val_loss: 10.9095 - val_accuracy: 0.8906\n",
      "Epoch 8/200\n",
      "107/107 [==============================] - 0s 4ms/step - loss: 2.3353 - accuracy: 0.9762 - val_loss: 10.5482 - val_accuracy: 0.8976\n",
      "Epoch 9/200\n",
      "107/107 [==============================] - 0s 4ms/step - loss: 1.6356 - accuracy: 0.9821 - val_loss: 13.4422 - val_accuracy: 0.8906\n",
      "Epoch 10/200\n",
      "107/107 [==============================] - 0s 4ms/step - loss: 0.6959 - accuracy: 0.9935 - val_loss: 16.9713 - val_accuracy: 0.8824\n",
      "Epoch 11/200\n",
      "107/107 [==============================] - 1s 5ms/step - loss: 0.9166 - accuracy: 0.9888 - val_loss: 19.1783 - val_accuracy: 0.8765\n",
      "Epoch 12/200\n",
      "107/107 [==============================] - 1s 5ms/step - loss: 0.9485 - accuracy: 0.9900 - val_loss: 18.6972 - val_accuracy: 0.8871\n",
      "Epoch 13/200\n",
      "107/107 [==============================] - 1s 5ms/step - loss: 0.9885 - accuracy: 0.9897 - val_loss: 20.2394 - val_accuracy: 0.8741\n",
      "Epoch 14/200\n",
      "107/107 [==============================] - 1s 5ms/step - loss: 1.0912 - accuracy: 0.9868 - val_loss: 15.4175 - val_accuracy: 0.8965\n",
      "Epoch 15/200\n",
      "107/107 [==============================] - 1s 5ms/step - loss: 0.5840 - accuracy: 0.9938 - val_loss: 17.8886 - val_accuracy: 0.9035\n",
      "Epoch 16/200\n",
      "107/107 [==============================] - 1s 5ms/step - loss: 0.5105 - accuracy: 0.9947 - val_loss: 23.5477 - val_accuracy: 0.8729\n",
      "Epoch 17/200\n",
      "107/107 [==============================] - 0s 4ms/step - loss: 0.4184 - accuracy: 0.9968 - val_loss: 19.7618 - val_accuracy: 0.9000\n",
      "Epoch 18/200\n",
      "107/107 [==============================] - 1s 5ms/step - loss: 0.1220 - accuracy: 0.9988 - val_loss: 22.1143 - val_accuracy: 0.8941\n",
      "Epoch 19/200\n",
      "107/107 [==============================] - 1s 5ms/step - loss: 0.1042 - accuracy: 0.9988 - val_loss: 22.1456 - val_accuracy: 0.8953\n",
      "Epoch 20/200\n",
      "107/107 [==============================] - 1s 5ms/step - loss: 0.0805 - accuracy: 0.9991 - val_loss: 22.6630 - val_accuracy: 0.8929\n",
      "Epoch 21/200\n",
      "107/107 [==============================] - 1s 5ms/step - loss: 0.0749 - accuracy: 0.9988 - val_loss: 23.1995 - val_accuracy: 0.8906\n",
      "Epoch 22/200\n",
      "107/107 [==============================] - 1s 5ms/step - loss: 0.0759 - accuracy: 0.9991 - val_loss: 23.3566 - val_accuracy: 0.8918\n",
      "Epoch 23/200\n",
      "107/107 [==============================] - 1s 5ms/step - loss: 0.0716 - accuracy: 0.9988 - val_loss: 23.8505 - val_accuracy: 0.8918\n",
      "Epoch 24/200\n",
      "107/107 [==============================] - 1s 5ms/step - loss: 0.0730 - accuracy: 0.9991 - val_loss: 24.0610 - val_accuracy: 0.8965\n",
      "Epoch 25/200\n",
      "107/107 [==============================] - 0s 4ms/step - loss: 0.0849 - accuracy: 0.9988 - val_loss: 23.7946 - val_accuracy: 0.8941\n",
      "Epoch 26/200\n",
      "107/107 [==============================] - 1s 5ms/step - loss: 0.0755 - accuracy: 0.9988 - val_loss: 24.4257 - val_accuracy: 0.8941\n",
      "Epoch 27/200\n",
      "107/107 [==============================] - 1s 6ms/step - loss: 0.0780 - accuracy: 0.9991 - val_loss: 24.6823 - val_accuracy: 0.8929\n",
      "Epoch 28/200\n",
      "107/107 [==============================] - 0s 4ms/step - loss: 0.0719 - accuracy: 0.9991 - val_loss: 24.7656 - val_accuracy: 0.8941\n",
      "Epoch 29/200\n",
      "107/107 [==============================] - 0s 4ms/step - loss: 0.0739 - accuracy: 0.9991 - val_loss: 24.8558 - val_accuracy: 0.8929\n",
      "Epoch 30/200\n",
      "107/107 [==============================] - 0s 4ms/step - loss: 0.0718 - accuracy: 0.9991 - val_loss: 25.0122 - val_accuracy: 0.8929\n",
      "Epoch 31/200\n",
      "107/107 [==============================] - 1s 5ms/step - loss: 0.0694 - accuracy: 0.9991 - val_loss: 25.2737 - val_accuracy: 0.8941\n",
      "Epoch 32/200\n",
      "107/107 [==============================] - 1s 6ms/step - loss: 0.0710 - accuracy: 0.9991 - val_loss: 25.3619 - val_accuracy: 0.8965\n",
      "Epoch 33/200\n",
      "107/107 [==============================] - 1s 5ms/step - loss: 0.0791 - accuracy: 0.9988 - val_loss: 25.5180 - val_accuracy: 0.8953\n",
      "Epoch 34/200\n",
      "107/107 [==============================] - 1s 5ms/step - loss: 0.1033 - accuracy: 0.9988 - val_loss: 24.3616 - val_accuracy: 0.8976\n",
      "Epoch 35/200\n",
      "107/107 [==============================] - 1s 5ms/step - loss: 0.0838 - accuracy: 0.9991 - val_loss: 24.6100 - val_accuracy: 0.8976\n",
      "Epoch 36/200\n",
      "107/107 [==============================] - 0s 5ms/step - loss: 0.0749 - accuracy: 0.9985 - val_loss: 24.8313 - val_accuracy: 0.9000\n",
      "Epoch 37/200\n",
      "107/107 [==============================] - 0s 5ms/step - loss: 0.0707 - accuracy: 0.9991 - val_loss: 25.3462 - val_accuracy: 0.8988\n",
      "Epoch 38/200\n",
      "107/107 [==============================] - 1s 5ms/step - loss: 0.0670 - accuracy: 0.9991 - val_loss: 25.7176 - val_accuracy: 0.8976\n",
      "Epoch 39/200\n",
      "107/107 [==============================] - 0s 4ms/step - loss: 0.0824 - accuracy: 0.9985 - val_loss: 24.5818 - val_accuracy: 0.8976\n",
      "Epoch 40/200\n",
      "107/107 [==============================] - 0s 5ms/step - loss: 0.0801 - accuracy: 0.9991 - val_loss: 26.4328 - val_accuracy: 0.8976\n",
      "Epoch 41/200\n",
      "107/107 [==============================] - 1s 5ms/step - loss: 0.0730 - accuracy: 0.9991 - val_loss: 26.8188 - val_accuracy: 0.8965\n",
      "Epoch 42/200\n",
      "107/107 [==============================] - 1s 5ms/step - loss: 0.0703 - accuracy: 0.9991 - val_loss: 26.7168 - val_accuracy: 0.8965\n",
      "Epoch 43/200\n",
      "107/107 [==============================] - 1s 5ms/step - loss: 0.0687 - accuracy: 0.9991 - val_loss: 26.7497 - val_accuracy: 0.8976\n",
      "Epoch 44/200\n",
      "107/107 [==============================] - 1s 5ms/step - loss: 0.0672 - accuracy: 0.9991 - val_loss: 27.0888 - val_accuracy: 0.8976\n",
      "Epoch 45/200\n",
      "107/107 [==============================] - 0s 5ms/step - loss: 0.0651 - accuracy: 0.9991 - val_loss: 27.3563 - val_accuracy: 0.8988\n",
      "Epoch 46/200\n",
      "107/107 [==============================] - 1s 5ms/step - loss: 0.0659 - accuracy: 0.9991 - val_loss: 27.6410 - val_accuracy: 0.8988\n",
      "Epoch 47/200\n",
      "107/107 [==============================] - 1s 5ms/step - loss: 0.0680 - accuracy: 0.9991 - val_loss: 27.9374 - val_accuracy: 0.8988\n",
      "Epoch 48/200\n",
      "107/107 [==============================] - 1s 5ms/step - loss: 0.0654 - accuracy: 0.9991 - val_loss: 27.8206 - val_accuracy: 0.9000\n",
      "Epoch 49/200\n",
      "107/107 [==============================] - 0s 5ms/step - loss: 0.0648 - accuracy: 0.9991 - val_loss: 27.9012 - val_accuracy: 0.9000\n",
      "Epoch 50/200\n",
      "107/107 [==============================] - 1s 5ms/step - loss: 0.0679 - accuracy: 0.9991 - val_loss: 28.1441 - val_accuracy: 0.8965\n",
      "Epoch 51/200\n",
      "107/107 [==============================] - 1s 5ms/step - loss: 0.0639 - accuracy: 0.9991 - val_loss: 28.2846 - val_accuracy: 0.8988\n",
      "Epoch 52/200\n",
      "107/107 [==============================] - 1s 5ms/step - loss: 0.0663 - accuracy: 0.9991 - val_loss: 28.4564 - val_accuracy: 0.8976\n",
      "Epoch 53/200\n",
      "107/107 [==============================] - 1s 5ms/step - loss: 0.0685 - accuracy: 0.9991 - val_loss: 28.4138 - val_accuracy: 0.8976\n",
      "Epoch 54/200\n",
      "107/107 [==============================] - 1s 5ms/step - loss: 0.0675 - accuracy: 0.9991 - val_loss: 28.5217 - val_accuracy: 0.8988\n"
     ]
    }
   ],
   "source": [
    "model_checkpoint = tf.keras.callbacks.ModelCheckpoint(checkpoint_path + 'MLP', monitor='val_loss', save_best_only=True, save_feq='epoch')\n",
    "MLP_MODEL.compile(optimizer='adam', loss='sparse_categorical_crossentropy', metrics=['accuracy'])\n",
    "history_MLP = MLP_MODEL.fit(np.array(X_train),np.array(y_train), epochs=200, verbose=1, validation_split=0.2,callbacks=[early_stopping,model_checkpoint])"
   ]
  },
  {
   "cell_type": "code",
   "execution_count": 277,
   "metadata": {
    "colab": {
     "base_uri": "https://localhost:8080/",
     "height": 283
    },
    "executionInfo": {
     "elapsed": 692,
     "status": "ok",
     "timestamp": 1655150825543,
     "user": {
      "displayName": "Nguyễn Nathan",
      "userId": "02063277889349077620"
     },
     "user_tz": -420
    },
    "id": "MD-BGC5vrKzv",
    "outputId": "f61493a3-ca1b-4015-f052-0c2d9718b9cb"
   },
   "outputs": [
    {
     "data": {
      "text/plain": [
       "<matplotlib.legend.Legend at 0x14b1c7956f0>"
      ]
     },
     "execution_count": 277,
     "metadata": {},
     "output_type": "execute_result"
    },
    {
     "data": {
      "image/png": "[encoded data removed]",
      "text/plain": [
       "<Figure size 640x480 with 1 Axes>"
      ]
     },
     "metadata": {},
     "output_type": "display_data"
    }
   ],
   "source": [
    "plt.plot(history_MLP.history['loss'], label='train')\n",
    "plt.plot(history_MLP.history['val_loss'], label='val')\n",
    "plt.legend()"
   ]
  },
  {
   "cell_type": "code",
   "execution_count": 278,
   "metadata": {
    "colab": {
     "base_uri": "https://localhost:8080/",
     "height": 283
    },
    "executionInfo": {
     "elapsed": 821,
     "status": "ok",
     "timestamp": 1655150828386,
     "user": {
      "displayName": "Nguyễn Nathan",
      "userId": "02063277889349077620"
     },
     "user_tz": -420
    },
    "id": "wcmEambZrN4Z",
    "outputId": "1fd2ff5d-a926-473b-80f4-1f8960ea8b1f"
   },
   "outputs": [
    {
     "data": {
      "text/plain": [
       "<matplotlib.legend.Legend at 0x14ad1e94760>"
      ]
     },
     "execution_count": 278,
     "metadata": {},
     "output_type": "execute_result"
    },
    {
     "data": {
      "image/png": "[encoded data removed]",
      "text/plain": [
       "<Figure size 640x480 with 1 Axes>"
      ]
     },
     "metadata": {},
     "output_type": "display_data"
    }
   ],
   "source": [
    "plt.plot(history_MLP.history['accuracy'], label='train')\n",
    "plt.plot(history_MLP.history['val_accuracy'], label='val')\n",
    "plt.legend()"
   ]
  },
  {
   "cell_type": "code",
   "execution_count": 279,
   "metadata": {
    "colab": {
     "base_uri": "https://localhost:8080/"
    },
    "executionInfo": {
     "elapsed": 307,
     "status": "ok",
     "timestamp": 1655151163782,
     "user": {
      "displayName": "Nguyễn Nathan",
      "userId": "02063277889349077620"
     },
     "user_tz": -420
    },
    "id": "7vgLxgRpsfqT",
    "outputId": "4381320a-2c99-48e5-bca2-f5b0881af6a7"
   },
   "outputs": [
    {
     "name": "stdout",
     "output_type": "stream",
     "text": [
      "24/24 [==============================] - 0s 3ms/step - loss: 9.8637 - accuracy: 0.8907\n"
     ]
    },
    {
     "data": {
      "text/plain": [
       "[9.863667488098145, 0.890666663646698]"
      ]
     },
     "execution_count": 279,
     "metadata": {},
     "output_type": "execute_result"
    }
   ],
   "source": [
    "MLP_MODEL.evaluate(np.array(np.expand_dims(X_test,-1)),np.array(y_test))"
   ]
  },
  {
   "cell_type": "code",
   "execution_count": 281,
   "metadata": {},
   "outputs": [],
   "source": [
    "model_LSTM.save('model_MLP_DS307.h5')"
   ]
  },
  {
   "cell_type": "code",
   "execution_count": null,
   "metadata": {},
   "outputs": [],
   "source": []
  }
 ],
 "metadata": {
  "accelerator": "GPU",
  "colab": {
   "authorship_tag": "ABX9TyPD28d7IlpLBPAyA2ISBNOj",
   "collapsed_sections": [],
   "name": "embeddingPhoBert.ipynb",
   "provenance": []
  },
  "gpuClass": "standard",
  "kernelspec": {
   "display_name": "Python 3 (ipykernel)",
   "language": "python",
   "name": "python3"
  },
  "language_info": {
   "codemirror_mode": {
    "name": "ipython",
    "version": 3
   },
   "file_extension": ".py",
   "mimetype": "text/x-python",
   "name": "python",
   "nbconvert_exporter": "python",
   "pygments_lexer": "ipython3",
   "version": "3.10.9"
  },
  "widgets": {
   "application/vnd.jupyter.widget-state+json": {
    "0554ed30630148c8901b0e0200a2d0fc": {
     "model_module": "@jupyter-widgets/controls",
     "model_module_version": "1.5.0",
     "model_name": "HTMLModel",
     "state": {
      "_dom_classes": [],
      "_model_module": "@jupyter-widgets/controls",
      "_model_module_version": "1.5.0",
      "_model_name": "HTMLModel",
      "_view_count": null,
      "_view_module": "@jupyter-widgets/controls",
      "_view_module_version": "1.5.0",
      "_view_name": "HTMLView",
      "description": "",
      "description_tooltip": null,
      "layout": "IPY_MODEL_cb352a4e4bc2442eb83f56e3d9085608",
      "placeholder": "​",
      "style": "IPY_MODEL_ec08d4c6f32e4046889296027455f982",
      "value": " 518M/518M [00:09&lt;00:00, 62.6MB/s]"
     }
    },
    "07f573c63b234682bb0627a882853d18": {
     "model_module": "@jupyter-widgets/controls",
     "model_module_version": "1.5.0",
     "model_name": "FloatProgressModel",
     "state": {
      "_dom_classes": [],
      "_model_module": "@jupyter-widgets/controls",
      "_model_module_version": "1.5.0",
      "_model_name": "FloatProgressModel",
      "_view_count": null,
      "_view_module": "@jupyter-widgets/controls",
      "_view_module_version": "1.5.0",
      "_view_name": "ProgressView",
      "bar_style": "success",
      "description": "",
      "description_tooltip": null,
      "layout": "IPY_MODEL_226059edc6c84bc1bd889fb0b91c5b80",
      "max": 542923308,
      "min": 0,
      "orientation": "horizontal",
      "style": "IPY_MODEL_9f4324a7417545aeae8e0fbf6aaca353",
      "value": 542923308
     }
    },
    "131245bff6e341b6bc1f77adfae591c6": {
     "model_module": "@jupyter-widgets/controls",
     "model_module_version": "1.5.0",
     "model_name": "HTMLModel",
     "state": {
      "_dom_classes": [],
      "_model_module": "@jupyter-widgets/controls",
      "_model_module_version": "1.5.0",
      "_model_name": "HTMLModel",
      "_view_count": null,
      "_view_module": "@jupyter-widgets/controls",
      "_view_module_version": "1.5.0",
      "_view_name": "HTMLView",
      "description": "",
      "description_tooltip": null,
      "layout": "IPY_MODEL_b94289401f2b4ef49a088f9d3f4a8685",
      "placeholder": "​",
      "style": "IPY_MODEL_f96bb38fcce341a99755696f55b95145",
      "value": " 1.08M/1.08M [00:00&lt;00:00, 1.04MB/s]"
     }
    },
    "226059edc6c84bc1bd889fb0b91c5b80": {
     "model_module": "@jupyter-widgets/base",
     "model_module_version": "1.2.0",
     "model_name": "LayoutModel",
     "state": {
      "_model_module": "@jupyter-widgets/base",
      "_model_module_version": "1.2.0",
      "_model_name": "LayoutModel",
      "_view_count": null,
      "_view_module": "@jupyter-widgets/base",
      "_view_module_version": "1.2.0",
      "_view_name": "LayoutView",
      "align_content": null,
      "align_items": null,
      "align_self": null,
      "border": null,
      "bottom": null,
      "display": null,
      "flex": null,
      "flex_flow": null,
      "grid_area": null,
      "grid_auto_columns": null,
      "grid_auto_flow": null,
      "grid_auto_rows": null,
      "grid_column": null,
      "grid_gap": null,
      "grid_row": null,
      "grid_template_areas": null,
      "grid_template_columns": null,
      "grid_template_rows": null,
      "height": null,
      "justify_content": null,
      "justify_items": null,
      "left": null,
      "margin": null,
      "max_height": null,
      "max_width": null,
      "min_height": null,
      "min_width": null,
      "object_fit": null,
      "object_position": null,
      "order": null,
      "overflow": null,
      "overflow_x": null,
      "overflow_y": null,
      "padding": null,
      "right": null,
      "top": null,
      "visibility": null,
      "width": null
     }
    },
    "2c91fe68ff794e74ae75a2789ddd9a4c": {
     "model_module": "@jupyter-widgets/controls",
     "model_module_version": "1.5.0",
     "model_name": "HTMLModel",
     "state": {
      "_dom_classes": [],
      "_model_module": "@jupyter-widgets/controls",
      "_model_module_version": "1.5.0",
      "_model_name": "HTMLModel",
      "_view_count": null,
      "_view_module": "@jupyter-widgets/controls",
      "_view_module_version": "1.5.0",
      "_view_name": "HTMLView",
      "description": "",
      "description_tooltip": null,
      "layout": "IPY_MODEL_6947a9df70a44165b2259520a9fa8dac",
      "placeholder": "​",
      "style": "IPY_MODEL_88f54ea82db34bd098b806f2f1abc10d",
      "value": " 557/557 [00:00&lt;00:00, 4.12kB/s]"
     }
    },
    "2cfba68d0a174b8ebde530579ded23f2": {
     "model_module": "@jupyter-widgets/controls",
     "model_module_version": "1.5.0",
     "model_name": "HTMLModel",
     "state": {
      "_dom_classes": [],
      "_model_module": "@jupyter-widgets/controls",
      "_model_module_version": "1.5.0",
      "_model_name": "HTMLModel",
      "_view_count": null,
      "_view_module": "@jupyter-widgets/controls",
      "_view_module_version": "1.5.0",
      "_view_name": "HTMLView",
      "description": "",
      "description_tooltip": null,
      "layout": "IPY_MODEL_88328606b559456e9f2c3bef3d1bc608",
      "placeholder": "​",
      "style": "IPY_MODEL_5abe804e3edd4f7d81f0b9627a12e81f",
      "value": "Downloading: 100%"
     }
    },
    "446705402ec1407b8fe364da899f44a5": {
     "model_module": "@jupyter-widgets/base",
     "model_module_version": "1.2.0",
     "model_name": "LayoutModel",
     "state": {
      "_model_module": "@jupyter-widgets/base",
      "_model_module_version": "1.2.0",
      "_model_name": "LayoutModel",
      "_view_count": null,
      "_view_module": "@jupyter-widgets/base",
      "_view_module_version": "1.2.0",
      "_view_name": "LayoutView",
      "align_content": null,
      "align_items": null,
      "align_self": null,
      "border": null,
      "bottom": null,
      "display": null,
      "flex": null,
      "flex_flow": null,
      "grid_area": null,
      "grid_auto_columns": null,
      "grid_auto_flow": null,
      "grid_auto_rows": null,
      "grid_column": null,
      "grid_gap": null,
      "grid_row": null,
      "grid_template_areas": null,
      "grid_template_columns": null,
      "grid_template_rows": null,
      "height": null,
      "justify_content": null,
      "justify_items": null,
      "left": null,
      "margin": null,
      "max_height": null,
      "max_width": null,
      "min_height": null,
      "min_width": null,
      "object_fit": null,
      "object_position": null,
      "order": null,
      "overflow": null,
      "overflow_x": null,
      "overflow_y": null,
      "padding": null,
      "right": null,
      "top": null,
      "visibility": null,
      "width": null
     }
    },
    "4de1ab6ad4d846e48f70d91b082b92c3": {
     "model_module": "@jupyter-widgets/controls",
     "model_module_version": "1.5.0",
     "model_name": "FloatProgressModel",
     "state": {
      "_dom_classes": [],
      "_model_module": "@jupyter-widgets/controls",
      "_model_module_version": "1.5.0",
      "_model_name": "FloatProgressModel",
      "_view_count": null,
      "_view_module": "@jupyter-widgets/controls",
      "_view_module_version": "1.5.0",
      "_view_name": "ProgressView",
      "bar_style": "success",
      "description": "",
      "description_tooltip": null,
      "layout": "IPY_MODEL_5570c6da241f405d95f930a2d11aea2c",
      "max": 895321,
      "min": 0,
      "orientation": "horizontal",
      "style": "IPY_MODEL_e505d5390d9444fc8a05bf4bae897fdf",
      "value": 895321
     }
    },
    "5570c6da241f405d95f930a2d11aea2c": {
     "model_module": "@jupyter-widgets/base",
     "model_module_version": "1.2.0",
     "model_name": "LayoutModel",
     "state": {
      "_model_module": "@jupyter-widgets/base",
      "_model_module_version": "1.2.0",
      "_model_name": "LayoutModel",
      "_view_count": null,
      "_view_module": "@jupyter-widgets/base",
      "_view_module_version": "1.2.0",
      "_view_name": "LayoutView",
      "align_content": null,
      "align_items": null,
      "align_self": null,
      "border": null,
      "bottom": null,
      "display": null,
      "flex": null,
      "flex_flow": null,
      "grid_area": null,
      "grid_auto_columns": null,
      "grid_auto_flow": null,
      "grid_auto_rows": null,
      "grid_column": null,
      "grid_gap": null,
      "grid_row": null,
      "grid_template_areas": null,
      "grid_template_columns": null,
      "grid_template_rows": null,
      "height": null,
      "justify_content": null,
      "justify_items": null,
      "left": null,
      "margin": null,
      "max_height": null,
      "max_width": null,
      "min_height": null,
      "min_width": null,
      "object_fit": null,
      "object_position": null,
      "order": null,
      "overflow": null,
      "overflow_x": null,
      "overflow_y": null,
      "padding": null,
      "right": null,
      "top": null,
      "visibility": null,
      "width": null
     }
    },
    "5abe804e3edd4f7d81f0b9627a12e81f": {
     "model_module": "@jupyter-widgets/controls",
     "model_module_version": "1.5.0",
     "model_name": "DescriptionStyleModel",
     "state": {
      "_model_module": "@jupyter-widgets/controls",
      "_model_module_version": "1.5.0",
      "_model_name": "DescriptionStyleModel",
      "_view_count": null,
      "_view_module": "@jupyter-widgets/base",
      "_view_module_version": "1.2.0",
      "_view_name": "StyleView",
      "description_width": ""
     }
    },
    "5acb38d6df774eab8fdc2fd8ad10d899": {
     "model_module": "@jupyter-widgets/base",
     "model_module_version": "1.2.0",
     "model_name": "LayoutModel",
     "state": {
      "_model_module": "@jupyter-widgets/base",
      "_model_module_version": "1.2.0",
      "_model_name": "LayoutModel",
      "_view_count": null,
      "_view_module": "@jupyter-widgets/base",
      "_view_module_version": "1.2.0",
      "_view_name": "LayoutView",
      "align_content": null,
      "align_items": null,
      "align_self": null,
      "border": null,
      "bottom": null,
      "display": null,
      "flex": null,
      "flex_flow": null,
      "grid_area": null,
      "grid_auto_columns": null,
      "grid_auto_flow": null,
      "grid_auto_rows": null,
      "grid_column": null,
      "grid_gap": null,
      "grid_row": null,
      "grid_template_areas": null,
      "grid_template_columns": null,
      "grid_template_rows": null,
      "height": null,
      "justify_content": null,
      "justify_items": null,
      "left": null,
      "margin": null,
      "max_height": null,
      "max_width": null,
      "min_height": null,
      "min_width": null,
      "object_fit": null,
      "object_position": null,
      "order": null,
      "overflow": null,
      "overflow_x": null,
      "overflow_y": null,
      "padding": null,
      "right": null,
      "top": null,
      "visibility": null,
      "width": null
     }
    },
    "5acea4896fba4201b2a32c3aee5a7fcf": {
     "model_module": "@jupyter-widgets/base",
     "model_module_version": "1.2.0",
     "model_name": "LayoutModel",
     "state": {
      "_model_module": "@jupyter-widgets/base",
      "_model_module_version": "1.2.0",
      "_model_name": "LayoutModel",
      "_view_count": null,
      "_view_module": "@jupyter-widgets/base",
      "_view_module_version": "1.2.0",
      "_view_name": "LayoutView",
      "align_content": null,
      "align_items": null,
      "align_self": null,
      "border": null,
      "bottom": null,
      "display": null,
      "flex": null,
      "flex_flow": null,
      "grid_area": null,
      "grid_auto_columns": null,
      "grid_auto_flow": null,
      "grid_auto_rows": null,
      "grid_column": null,
      "grid_gap": null,
      "grid_row": null,
      "grid_template_areas": null,
      "grid_template_columns": null,
      "grid_template_rows": null,
      "height": null,
      "justify_content": null,
      "justify_items": null,
      "left": null,
      "margin": null,
      "max_height": null,
      "max_width": null,
      "min_height": null,
      "min_width": null,
      "object_fit": null,
      "object_position": null,
      "order": null,
      "overflow": null,
      "overflow_x": null,
      "overflow_y": null,
      "padding": null,
      "right": null,
      "top": null,
      "visibility": null,
      "width": null
     }
    },
    "5ecf5387ac4b40898ef006acd6d6f7a7": {
     "model_module": "@jupyter-widgets/base",
     "model_module_version": "1.2.0",
     "model_name": "LayoutModel",
     "state": {
      "_model_module": "@jupyter-widgets/base",
      "_model_module_version": "1.2.0",
      "_model_name": "LayoutModel",
      "_view_count": null,
      "_view_module": "@jupyter-widgets/base",
      "_view_module_version": "1.2.0",
      "_view_name": "LayoutView",
      "align_content": null,
      "align_items": null,
      "align_self": null,
      "border": null,
      "bottom": null,
      "display": null,
      "flex": null,
      "flex_flow": null,
      "grid_area": null,
      "grid_auto_columns": null,
      "grid_auto_flow": null,
      "grid_auto_rows": null,
      "grid_column": null,
      "grid_gap": null,
      "grid_row": null,
      "grid_template_areas": null,
      "grid_template_columns": null,
      "grid_template_rows": null,
      "height": null,
      "justify_content": null,
      "justify_items": null,
      "left": null,
      "margin": null,
      "max_height": null,
      "max_width": null,
      "min_height": null,
      "min_width": null,
      "object_fit": null,
      "object_position": null,
      "order": null,
      "overflow": null,
      "overflow_x": null,
      "overflow_y": null,
      "padding": null,
      "right": null,
      "top": null,
      "visibility": null,
      "width": null
     }
    },
    "6947a9df70a44165b2259520a9fa8dac": {
     "model_module": "@jupyter-widgets/base",
     "model_module_version": "1.2.0",
     "model_name": "LayoutModel",
     "state": {
      "_model_module": "@jupyter-widgets/base",
      "_model_module_version": "1.2.0",
      "_model_name": "LayoutModel",
      "_view_count": null,
      "_view_module": "@jupyter-widgets/base",
      "_view_module_version": "1.2.0",
      "_view_name": "LayoutView",
      "align_content": null,
      "align_items": null,
      "align_self": null,
      "border": null,
      "bottom": null,
      "display": null,
      "flex": null,
      "flex_flow": null,
      "grid_area": null,
      "grid_auto_columns": null,
      "grid_auto_flow": null,
      "grid_auto_rows": null,
      "grid_column": null,
      "grid_gap": null,
      "grid_row": null,
      "grid_template_areas": null,
      "grid_template_columns": null,
      "grid_template_rows": null,
      "height": null,
      "justify_content": null,
      "justify_items": null,
      "left": null,
      "margin": null,
      "max_height": null,
      "max_width": null,
      "min_height": null,
      "min_width": null,
      "object_fit": null,
      "object_position": null,
      "order": null,
      "overflow": null,
      "overflow_x": null,
      "overflow_y": null,
      "padding": null,
      "right": null,
      "top": null,
      "visibility": null,
      "width": null
     }
    },
    "6a3ec2a5b1404d1e9d8de99e06243b24": {
     "model_module": "@jupyter-widgets/controls",
     "model_module_version": "1.5.0",
     "model_name": "HTMLModel",
     "state": {
      "_dom_classes": [],
      "_model_module": "@jupyter-widgets/controls",
      "_model_module_version": "1.5.0",
      "_model_name": "HTMLModel",
      "_view_count": null,
      "_view_module": "@jupyter-widgets/controls",
      "_view_module_version": "1.5.0",
      "_view_name": "HTMLView",
      "description": "",
      "description_tooltip": null,
      "layout": "IPY_MODEL_b730cac17bcd44cfaaba774c5517058d",
      "placeholder": "​",
      "style": "IPY_MODEL_d1aeeb24fdd5479dac7cf1898d04428e",
      "value": "Downloading: 100%"
     }
    },
    "6a85f566745844e9a0d758db1d648854": {
     "model_module": "@jupyter-widgets/controls",
     "model_module_version": "1.5.0",
     "model_name": "FloatProgressModel",
     "state": {
      "_dom_classes": [],
      "_model_module": "@jupyter-widgets/controls",
      "_model_module_version": "1.5.0",
      "_model_name": "FloatProgressModel",
      "_view_count": null,
      "_view_module": "@jupyter-widgets/controls",
      "_view_module_version": "1.5.0",
      "_view_name": "ProgressView",
      "bar_style": "success",
      "description": "",
      "description_tooltip": null,
      "layout": "IPY_MODEL_f9b7eb59697a4c1494711d8c9964cbf3",
      "max": 557,
      "min": 0,
      "orientation": "horizontal",
      "style": "IPY_MODEL_d0692bc879014d59b351b2d2c2d13b5d",
      "value": 557
     }
    },
    "759e4c3d039b4dab9e765bad3ab3094e": {
     "model_module": "@jupyter-widgets/controls",
     "model_module_version": "1.5.0",
     "model_name": "HBoxModel",
     "state": {
      "_dom_classes": [],
      "_model_module": "@jupyter-widgets/controls",
      "_model_module_version": "1.5.0",
      "_model_name": "HBoxModel",
      "_view_count": null,
      "_view_module": "@jupyter-widgets/controls",
      "_view_module_version": "1.5.0",
      "_view_name": "HBoxView",
      "box_style": "",
      "children": [
       "IPY_MODEL_9b576851f5224052a69eaee172d2ef93",
       "IPY_MODEL_6a85f566745844e9a0d758db1d648854",
       "IPY_MODEL_2c91fe68ff794e74ae75a2789ddd9a4c"
      ],
      "layout": "IPY_MODEL_f5026e9246ae444b9f93afc8fce58110"
     }
    },
    "88328606b559456e9f2c3bef3d1bc608": {
     "model_module": "@jupyter-widgets/base",
     "model_module_version": "1.2.0",
     "model_name": "LayoutModel",
     "state": {
      "_model_module": "@jupyter-widgets/base",
      "_model_module_version": "1.2.0",
      "_model_name": "LayoutModel",
      "_view_count": null,
      "_view_module": "@jupyter-widgets/base",
      "_view_module_version": "1.2.0",
      "_view_name": "LayoutView",
      "align_content": null,
      "align_items": null,
      "align_self": null,
      "border": null,
      "bottom": null,
      "display": null,
      "flex": null,
      "flex_flow": null,
      "grid_area": null,
      "grid_auto_columns": null,
      "grid_auto_flow": null,
      "grid_auto_rows": null,
      "grid_column": null,
      "grid_gap": null,
      "grid_row": null,
      "grid_template_areas": null,
      "grid_template_columns": null,
      "grid_template_rows": null,
      "height": null,
      "justify_content": null,
      "justify_items": null,
      "left": null,
      "margin": null,
      "max_height": null,
      "max_width": null,
      "min_height": null,
      "min_width": null,
      "object_fit": null,
      "object_position": null,
      "order": null,
      "overflow": null,
      "overflow_x": null,
      "overflow_y": null,
      "padding": null,
      "right": null,
      "top": null,
      "visibility": null,
      "width": null
     }
    },
    "88f54ea82db34bd098b806f2f1abc10d": {
     "model_module": "@jupyter-widgets/controls",
     "model_module_version": "1.5.0",
     "model_name": "DescriptionStyleModel",
     "state": {
      "_model_module": "@jupyter-widgets/controls",
      "_model_module_version": "1.5.0",
      "_model_name": "DescriptionStyleModel",
      "_view_count": null,
      "_view_module": "@jupyter-widgets/base",
      "_view_module_version": "1.2.0",
      "_view_name": "StyleView",
      "description_width": ""
     }
    },
    "8a8d99e562cb44658cbe1ddb4ac6a3e0": {
     "model_module": "@jupyter-widgets/controls",
     "model_module_version": "1.5.0",
     "model_name": "HBoxModel",
     "state": {
      "_dom_classes": [],
      "_model_module": "@jupyter-widgets/controls",
      "_model_module_version": "1.5.0",
      "_model_name": "HBoxModel",
      "_view_count": null,
      "_view_module": "@jupyter-widgets/controls",
      "_view_module_version": "1.5.0",
      "_view_name": "HBoxView",
      "box_style": "",
      "children": [
       "IPY_MODEL_6a3ec2a5b1404d1e9d8de99e06243b24",
       "IPY_MODEL_4de1ab6ad4d846e48f70d91b082b92c3",
       "IPY_MODEL_d9bb060177334a498865340658404ffb"
      ],
      "layout": "IPY_MODEL_f4d8bab9131f4322bbed2b2f16d56536"
     }
    },
    "9b576851f5224052a69eaee172d2ef93": {
     "model_module": "@jupyter-widgets/controls",
     "model_module_version": "1.5.0",
     "model_name": "HTMLModel",
     "state": {
      "_dom_classes": [],
      "_model_module": "@jupyter-widgets/controls",
      "_model_module_version": "1.5.0",
      "_model_name": "HTMLModel",
      "_view_count": null,
      "_view_module": "@jupyter-widgets/controls",
      "_view_module_version": "1.5.0",
      "_view_name": "HTMLView",
      "description": "",
      "description_tooltip": null,
      "layout": "IPY_MODEL_446705402ec1407b8fe364da899f44a5",
      "placeholder": "​",
      "style": "IPY_MODEL_f098ff0fc42948acbce98794e6ea7dd0",
      "value": "Downloading: 100%"
     }
    },
    "9ef8aeb4da034221907db29a0c26d7e3": {
     "model_module": "@jupyter-widgets/base",
     "model_module_version": "1.2.0",
     "model_name": "LayoutModel",
     "state": {
      "_model_module": "@jupyter-widgets/base",
      "_model_module_version": "1.2.0",
      "_model_name": "LayoutModel",
      "_view_count": null,
      "_view_module": "@jupyter-widgets/base",
      "_view_module_version": "1.2.0",
      "_view_name": "LayoutView",
      "align_content": null,
      "align_items": null,
      "align_self": null,
      "border": null,
      "bottom": null,
      "display": null,
      "flex": null,
      "flex_flow": null,
      "grid_area": null,
      "grid_auto_columns": null,
      "grid_auto_flow": null,
      "grid_auto_rows": null,
      "grid_column": null,
      "grid_gap": null,
      "grid_row": null,
      "grid_template_areas": null,
      "grid_template_columns": null,
      "grid_template_rows": null,
      "height": null,
      "justify_content": null,
      "justify_items": null,
      "left": null,
      "margin": null,
      "max_height": null,
      "max_width": null,
      "min_height": null,
      "min_width": null,
      "object_fit": null,
      "object_position": null,
      "order": null,
      "overflow": null,
      "overflow_x": null,
      "overflow_y": null,
      "padding": null,
      "right": null,
      "top": null,
      "visibility": null,
      "width": null
     }
    },
    "9f4324a7417545aeae8e0fbf6aaca353": {
     "model_module": "@jupyter-widgets/controls",
     "model_module_version": "1.5.0",
     "model_name": "ProgressStyleModel",
     "state": {
      "_model_module": "@jupyter-widgets/controls",
      "_model_module_version": "1.5.0",
      "_model_name": "ProgressStyleModel",
      "_view_count": null,
      "_view_module": "@jupyter-widgets/base",
      "_view_module_version": "1.2.0",
      "_view_name": "StyleView",
      "bar_color": null,
      "description_width": ""
     }
    },
    "a9c80dd2e40a4e2296d27290bdca17fa": {
     "model_module": "@jupyter-widgets/controls",
     "model_module_version": "1.5.0",
     "model_name": "DescriptionStyleModel",
     "state": {
      "_model_module": "@jupyter-widgets/controls",
      "_model_module_version": "1.5.0",
      "_model_name": "DescriptionStyleModel",
      "_view_count": null,
      "_view_module": "@jupyter-widgets/base",
      "_view_module_version": "1.2.0",
      "_view_name": "StyleView",
      "description_width": ""
     }
    },
    "b70332407f484aabb90016e0e229562e": {
     "model_module": "@jupyter-widgets/controls",
     "model_module_version": "1.5.0",
     "model_name": "ProgressStyleModel",
     "state": {
      "_model_module": "@jupyter-widgets/controls",
      "_model_module_version": "1.5.0",
      "_model_name": "ProgressStyleModel",
      "_view_count": null,
      "_view_module": "@jupyter-widgets/base",
      "_view_module_version": "1.2.0",
      "_view_name": "StyleView",
      "bar_color": null,
      "description_width": ""
     }
    },
    "b730cac17bcd44cfaaba774c5517058d": {
     "model_module": "@jupyter-widgets/base",
     "model_module_version": "1.2.0",
     "model_name": "LayoutModel",
     "state": {
      "_model_module": "@jupyter-widgets/base",
      "_model_module_version": "1.2.0",
      "_model_name": "LayoutModel",
      "_view_count": null,
      "_view_module": "@jupyter-widgets/base",
      "_view_module_version": "1.2.0",
      "_view_name": "LayoutView",
      "align_content": null,
      "align_items": null,
      "align_self": null,
      "border": null,
      "bottom": null,
      "display": null,
      "flex": null,
      "flex_flow": null,
      "grid_area": null,
      "grid_auto_columns": null,
      "grid_auto_flow": null,
      "grid_auto_rows": null,
      "grid_column": null,
      "grid_gap": null,
      "grid_row": null,
      "grid_template_areas": null,
      "grid_template_columns": null,
      "grid_template_rows": null,
      "height": null,
      "justify_content": null,
      "justify_items": null,
      "left": null,
      "margin": null,
      "max_height": null,
      "max_width": null,
      "min_height": null,
      "min_width": null,
      "object_fit": null,
      "object_position": null,
      "order": null,
      "overflow": null,
      "overflow_x": null,
      "overflow_y": null,
      "padding": null,
      "right": null,
      "top": null,
      "visibility": null,
      "width": null
     }
    },
    "b94289401f2b4ef49a088f9d3f4a8685": {
     "model_module": "@jupyter-widgets/base",
     "model_module_version": "1.2.0",
     "model_name": "LayoutModel",
     "state": {
      "_model_module": "@jupyter-widgets/base",
      "_model_module_version": "1.2.0",
      "_model_name": "LayoutModel",
      "_view_count": null,
      "_view_module": "@jupyter-widgets/base",
      "_view_module_version": "1.2.0",
      "_view_name": "LayoutView",
      "align_content": null,
      "align_items": null,
      "align_self": null,
      "border": null,
      "bottom": null,
      "display": null,
      "flex": null,
      "flex_flow": null,
      "grid_area": null,
      "grid_auto_columns": null,
      "grid_auto_flow": null,
      "grid_auto_rows": null,
      "grid_column": null,
      "grid_gap": null,
      "grid_row": null,
      "grid_template_areas": null,
      "grid_template_columns": null,
      "grid_template_rows": null,
      "height": null,
      "justify_content": null,
      "justify_items": null,
      "left": null,
      "margin": null,
      "max_height": null,
      "max_width": null,
      "min_height": null,
      "min_width": null,
      "object_fit": null,
      "object_position": null,
      "order": null,
      "overflow": null,
      "overflow_x": null,
      "overflow_y": null,
      "padding": null,
      "right": null,
      "top": null,
      "visibility": null,
      "width": null
     }
    },
    "c3882bf0ab99475da382c6fbdc9cf15e": {
     "model_module": "@jupyter-widgets/controls",
     "model_module_version": "1.5.0",
     "model_name": "DescriptionStyleModel",
     "state": {
      "_model_module": "@jupyter-widgets/controls",
      "_model_module_version": "1.5.0",
      "_model_name": "DescriptionStyleModel",
      "_view_count": null,
      "_view_module": "@jupyter-widgets/base",
      "_view_module_version": "1.2.0",
      "_view_name": "StyleView",
      "description_width": ""
     }
    },
    "cb352a4e4bc2442eb83f56e3d9085608": {
     "model_module": "@jupyter-widgets/base",
     "model_module_version": "1.2.0",
     "model_name": "LayoutModel",
     "state": {
      "_model_module": "@jupyter-widgets/base",
      "_model_module_version": "1.2.0",
      "_model_name": "LayoutModel",
      "_view_count": null,
      "_view_module": "@jupyter-widgets/base",
      "_view_module_version": "1.2.0",
      "_view_name": "LayoutView",
      "align_content": null,
      "align_items": null,
      "align_self": null,
      "border": null,
      "bottom": null,
      "display": null,
      "flex": null,
      "flex_flow": null,
      "grid_area": null,
      "grid_auto_columns": null,
      "grid_auto_flow": null,
      "grid_auto_rows": null,
      "grid_column": null,
      "grid_gap": null,
      "grid_row": null,
      "grid_template_areas": null,
      "grid_template_columns": null,
      "grid_template_rows": null,
      "height": null,
      "justify_content": null,
      "justify_items": null,
      "left": null,
      "margin": null,
      "max_height": null,
      "max_width": null,
      "min_height": null,
      "min_width": null,
      "object_fit": null,
      "object_position": null,
      "order": null,
      "overflow": null,
      "overflow_x": null,
      "overflow_y": null,
      "padding": null,
      "right": null,
      "top": null,
      "visibility": null,
      "width": null
     }
    },
    "d0692bc879014d59b351b2d2c2d13b5d": {
     "model_module": "@jupyter-widgets/controls",
     "model_module_version": "1.5.0",
     "model_name": "ProgressStyleModel",
     "state": {
      "_model_module": "@jupyter-widgets/controls",
      "_model_module_version": "1.5.0",
      "_model_name": "ProgressStyleModel",
      "_view_count": null,
      "_view_module": "@jupyter-widgets/base",
      "_view_module_version": "1.2.0",
      "_view_name": "StyleView",
      "bar_color": null,
      "description_width": ""
     }
    },
    "d1aeeb24fdd5479dac7cf1898d04428e": {
     "model_module": "@jupyter-widgets/controls",
     "model_module_version": "1.5.0",
     "model_name": "DescriptionStyleModel",
     "state": {
      "_model_module": "@jupyter-widgets/controls",
      "_model_module_version": "1.5.0",
      "_model_name": "DescriptionStyleModel",
      "_view_count": null,
      "_view_module": "@jupyter-widgets/base",
      "_view_module_version": "1.2.0",
      "_view_name": "StyleView",
      "description_width": ""
     }
    },
    "d60d0471f5354ef391a5a2d9c847f695": {
     "model_module": "@jupyter-widgets/base",
     "model_module_version": "1.2.0",
     "model_name": "LayoutModel",
     "state": {
      "_model_module": "@jupyter-widgets/base",
      "_model_module_version": "1.2.0",
      "_model_name": "LayoutModel",
      "_view_count": null,
      "_view_module": "@jupyter-widgets/base",
      "_view_module_version": "1.2.0",
      "_view_name": "LayoutView",
      "align_content": null,
      "align_items": null,
      "align_self": null,
      "border": null,
      "bottom": null,
      "display": null,
      "flex": null,
      "flex_flow": null,
      "grid_area": null,
      "grid_auto_columns": null,
      "grid_auto_flow": null,
      "grid_auto_rows": null,
      "grid_column": null,
      "grid_gap": null,
      "grid_row": null,
      "grid_template_areas": null,
      "grid_template_columns": null,
      "grid_template_rows": null,
      "height": null,
      "justify_content": null,
      "justify_items": null,
      "left": null,
      "margin": null,
      "max_height": null,
      "max_width": null,
      "min_height": null,
      "min_width": null,
      "object_fit": null,
      "object_position": null,
      "order": null,
      "overflow": null,
      "overflow_x": null,
      "overflow_y": null,
      "padding": null,
      "right": null,
      "top": null,
      "visibility": null,
      "width": null
     }
    },
    "d9bb060177334a498865340658404ffb": {
     "model_module": "@jupyter-widgets/controls",
     "model_module_version": "1.5.0",
     "model_name": "HTMLModel",
     "state": {
      "_dom_classes": [],
      "_model_module": "@jupyter-widgets/controls",
      "_model_module_version": "1.5.0",
      "_model_name": "HTMLModel",
      "_view_count": null,
      "_view_module": "@jupyter-widgets/controls",
      "_view_module_version": "1.5.0",
      "_view_name": "HTMLView",
      "description": "",
      "description_tooltip": null,
      "layout": "IPY_MODEL_5ecf5387ac4b40898ef006acd6d6f7a7",
      "placeholder": "​",
      "style": "IPY_MODEL_a9c80dd2e40a4e2296d27290bdca17fa",
      "value": " 874k/874k [00:00&lt;00:00, 4.07MB/s]"
     }
    },
    "de64a09353754d59a3dbd079234312cb": {
     "model_module": "@jupyter-widgets/controls",
     "model_module_version": "1.5.0",
     "model_name": "HBoxModel",
     "state": {
      "_dom_classes": [],
      "_model_module": "@jupyter-widgets/controls",
      "_model_module_version": "1.5.0",
      "_model_name": "HBoxModel",
      "_view_count": null,
      "_view_module": "@jupyter-widgets/controls",
      "_view_module_version": "1.5.0",
      "_view_name": "HBoxView",
      "box_style": "",
      "children": [
       "IPY_MODEL_2cfba68d0a174b8ebde530579ded23f2",
       "IPY_MODEL_07f573c63b234682bb0627a882853d18",
       "IPY_MODEL_0554ed30630148c8901b0e0200a2d0fc"
      ],
      "layout": "IPY_MODEL_5acb38d6df774eab8fdc2fd8ad10d899"
     }
    },
    "e505d5390d9444fc8a05bf4bae897fdf": {
     "model_module": "@jupyter-widgets/controls",
     "model_module_version": "1.5.0",
     "model_name": "ProgressStyleModel",
     "state": {
      "_model_module": "@jupyter-widgets/controls",
      "_model_module_version": "1.5.0",
      "_model_name": "ProgressStyleModel",
      "_view_count": null,
      "_view_module": "@jupyter-widgets/base",
      "_view_module_version": "1.2.0",
      "_view_name": "StyleView",
      "bar_color": null,
      "description_width": ""
     }
    },
    "e9f6a49a87094cb083e97cbd804857ce": {
     "model_module": "@jupyter-widgets/controls",
     "model_module_version": "1.5.0",
     "model_name": "HBoxModel",
     "state": {
      "_dom_classes": [],
      "_model_module": "@jupyter-widgets/controls",
      "_model_module_version": "1.5.0",
      "_model_name": "HBoxModel",
      "_view_count": null,
      "_view_module": "@jupyter-widgets/controls",
      "_view_module_version": "1.5.0",
      "_view_name": "HBoxView",
      "box_style": "",
      "children": [
       "IPY_MODEL_f9b44631c63b4d91a861991a211f3e0a",
       "IPY_MODEL_ff9fc7eee76742ecbb31e7df9530a820",
       "IPY_MODEL_131245bff6e341b6bc1f77adfae591c6"
      ],
      "layout": "IPY_MODEL_d60d0471f5354ef391a5a2d9c847f695"
     }
    },
    "ec08d4c6f32e4046889296027455f982": {
     "model_module": "@jupyter-widgets/controls",
     "model_module_version": "1.5.0",
     "model_name": "DescriptionStyleModel",
     "state": {
      "_model_module": "@jupyter-widgets/controls",
      "_model_module_version": "1.5.0",
      "_model_name": "DescriptionStyleModel",
      "_view_count": null,
      "_view_module": "@jupyter-widgets/base",
      "_view_module_version": "1.2.0",
      "_view_name": "StyleView",
      "description_width": ""
     }
    },
    "f098ff0fc42948acbce98794e6ea7dd0": {
     "model_module": "@jupyter-widgets/controls",
     "model_module_version": "1.5.0",
     "model_name": "DescriptionStyleModel",
     "state": {
      "_model_module": "@jupyter-widgets/controls",
      "_model_module_version": "1.5.0",
      "_model_name": "DescriptionStyleModel",
      "_view_count": null,
      "_view_module": "@jupyter-widgets/base",
      "_view_module_version": "1.2.0",
      "_view_name": "StyleView",
      "description_width": ""
     }
    },
    "f4d8bab9131f4322bbed2b2f16d56536": {
     "model_module": "@jupyter-widgets/base",
     "model_module_version": "1.2.0",
     "model_name": "LayoutModel",
     "state": {
      "_model_module": "@jupyter-widgets/base",
      "_model_module_version": "1.2.0",
      "_model_name": "LayoutModel",
      "_view_count": null,
      "_view_module": "@jupyter-widgets/base",
      "_view_module_version": "1.2.0",
      "_view_name": "LayoutView",
      "align_content": null,
      "align_items": null,
      "align_self": null,
      "border": null,
      "bottom": null,
      "display": null,
      "flex": null,
      "flex_flow": null,
      "grid_area": null,
      "grid_auto_columns": null,
      "grid_auto_flow": null,
      "grid_auto_rows": null,
      "grid_column": null,
      "grid_gap": null,
      "grid_row": null,
      "grid_template_areas": null,
      "grid_template_columns": null,
      "grid_template_rows": null,
      "height": null,
      "justify_content": null,
      "justify_items": null,
      "left": null,
      "margin": null,
      "max_height": null,
      "max_width": null,
      "min_height": null,
      "min_width": null,
      "object_fit": null,
      "object_position": null,
      "order": null,
      "overflow": null,
      "overflow_x": null,
      "overflow_y": null,
      "padding": null,
      "right": null,
      "top": null,
      "visibility": null,
      "width": null
     }
    },
    "f5026e9246ae444b9f93afc8fce58110": {
     "model_module": "@jupyter-widgets/base",
     "model_module_version": "1.2.0",
     "model_name": "LayoutModel",
     "state": {
      "_model_module": "@jupyter-widgets/base",
      "_model_module_version": "1.2.0",
      "_model_name": "LayoutModel",
      "_view_count": null,
      "_view_module": "@jupyter-widgets/base",
      "_view_module_version": "1.2.0",
      "_view_name": "LayoutView",
      "align_content": null,
      "align_items": null,
      "align_self": null,
      "border": null,
      "bottom": null,
      "display": null,
      "flex": null,
      "flex_flow": null,
      "grid_area": null,
      "grid_auto_columns": null,
      "grid_auto_flow": null,
      "grid_auto_rows": null,
      "grid_column": null,
      "grid_gap": null,
      "grid_row": null,
      "grid_template_areas": null,
      "grid_template_columns": null,
      "grid_template_rows": null,
      "height": null,
      "justify_content": null,
      "justify_items": null,
      "left": null,
      "margin": null,
      "max_height": null,
      "max_width": null,
      "min_height": null,
      "min_width": null,
      "object_fit": null,
      "object_position": null,
      "order": null,
      "overflow": null,
      "overflow_x": null,
      "overflow_y": null,
      "padding": null,
      "right": null,
      "top": null,
      "visibility": null,
      "width": null
     }
    },
    "f96bb38fcce341a99755696f55b95145": {
     "model_module": "@jupyter-widgets/controls",
     "model_module_version": "1.5.0",
     "model_name": "DescriptionStyleModel",
     "state": {
      "_model_module": "@jupyter-widgets/controls",
      "_model_module_version": "1.5.0",
      "_model_name": "DescriptionStyleModel",
      "_view_count": null,
      "_view_module": "@jupyter-widgets/base",
      "_view_module_version": "1.2.0",
      "_view_name": "StyleView",
      "description_width": ""
     }
    },
    "f9b44631c63b4d91a861991a211f3e0a": {
     "model_module": "@jupyter-widgets/controls",
     "model_module_version": "1.5.0",
     "model_name": "HTMLModel",
     "state": {
      "_dom_classes": [],
      "_model_module": "@jupyter-widgets/controls",
      "_model_module_version": "1.5.0",
      "_model_name": "HTMLModel",
      "_view_count": null,
      "_view_module": "@jupyter-widgets/controls",
      "_view_module_version": "1.5.0",
      "_view_name": "HTMLView",
      "description": "",
      "description_tooltip": null,
      "layout": "IPY_MODEL_5acea4896fba4201b2a32c3aee5a7fcf",
      "placeholder": "​",
      "style": "IPY_MODEL_c3882bf0ab99475da382c6fbdc9cf15e",
      "value": "Downloading: 100%"
     }
    },
    "f9b7eb59697a4c1494711d8c9964cbf3": {
     "model_module": "@jupyter-widgets/base",
     "model_module_version": "1.2.0",
     "model_name": "LayoutModel",
     "state": {
      "_model_module": "@jupyter-widgets/base",
      "_model_module_version": "1.2.0",
      "_model_name": "LayoutModel",
      "_view_count": null,
      "_view_module": "@jupyter-widgets/base",
      "_view_module_version": "1.2.0",
      "_view_name": "LayoutView",
      "align_content": null,
      "align_items": null,
      "align_self": null,
      "border": null,
      "bottom": null,
      "display": null,
      "flex": null,
      "flex_flow": null,
      "grid_area": null,
      "grid_auto_columns": null,
      "grid_auto_flow": null,
      "grid_auto_rows": null,
      "grid_column": null,
      "grid_gap": null,
      "grid_row": null,
      "grid_template_areas": null,
      "grid_template_columns": null,
      "grid_template_rows": null,
      "height": null,
      "justify_content": null,
      "justify_items": null,
      "left": null,
      "margin": null,
      "max_height": null,
      "max_width": null,
      "min_height": null,
      "min_width": null,
      "object_fit": null,
      "object_position": null,
      "order": null,
      "overflow": null,
      "overflow_x": null,
      "overflow_y": null,
      "padding": null,
      "right": null,
      "top": null,
      "visibility": null,
      "width": null
     }
    },
    "ff9fc7eee76742ecbb31e7df9530a820": {
     "model_module": "@jupyter-widgets/controls",
     "model_module_version": "1.5.0",
     "model_name": "FloatProgressModel",
     "state": {
      "_dom_classes": [],
      "_model_module": "@jupyter-widgets/controls",
      "_model_module_version": "1.5.0",
      "_model_name": "FloatProgressModel",
      "_view_count": null,
      "_view_module": "@jupyter-widgets/controls",
      "_view_module_version": "1.5.0",
      "_view_name": "ProgressView",
      "bar_style": "success",
      "description": "",
      "description_tooltip": null,
      "layout": "IPY_MODEL_9ef8aeb4da034221907db29a0c26d7e3",
      "max": 1135173,
      "min": 0,
      "orientation": "horizontal",
      "style": "IPY_MODEL_b70332407f484aabb90016e0e229562e",
      "value": 1135173
     }
    }
   }
  }
 },
 "nbformat": 4,
 "nbformat_minor": 1
}
